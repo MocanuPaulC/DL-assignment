{
 "cells": [
  {
   "cell_type": "code",
   "id": "d9cfac92cb23c89a",
   "metadata": {
    "ExecuteTime": {
     "end_time": "2025-04-02T20:02:09.250722Z",
     "start_time": "2025-04-02T20:02:09.243447Z"
    }
   },
   "source": [
    "import sys\n",
    "from pathlib import Path\n",
    "\n",
    "# Add parent directory to sys.path\n",
    "parent_dir = Path(\"..\").resolve()\n",
    "if str(parent_dir) not in sys.path:\n",
    "    sys.path.insert(0, str(parent_dir))\n",
    "\n",
    "# Now import your module\n",
    "import importlib\n",
    "import common_utils\n",
    "importlib.reload(common_utils)\n",
    "\n",
    "# Import specific functions\n",
    "from common_utils import (\n",
    "    get_unique_image_shapes,\n",
    "    get_unique_image_paths,\n",
    "    load_images_from_paths,\n",
    "    build_image_dataframe,\n",
    "    split_data,\n",
    "    bin_ages,\n",
    "    bin_ages_7\n",
    ")\n"
   ],
   "outputs": [],
   "execution_count": 15
  },
  {
   "cell_type": "markdown",
   "id": "e1fbae83435ec599",
   "metadata": {},
   "source": [
    "Check the shapes to see what we are working with and know how to handle the imput into the model later on"
   ]
  },
  {
   "cell_type": "code",
   "id": "93684586556e42f5",
   "metadata": {
    "ExecuteTime": {
     "end_time": "2025-04-02T19:57:08.458526Z",
     "start_time": "2025-04-02T19:57:08.456904Z"
    }
   },
   "source": [
    "# unique_shapes = get_unique_image_shapes()\n",
    "# for shape in unique_shapes:\n",
    "#     print(shape)\n"
   ],
   "outputs": [],
   "execution_count": 3
  },
  {
   "cell_type": "code",
   "id": "f199ddc2d744ab48",
   "metadata": {
    "ExecuteTime": {
     "end_time": "2025-04-02T19:57:13.983766Z",
     "start_time": "2025-04-02T19:57:08.509231Z"
    }
   },
   "source": [
    "paths=get_unique_image_paths()\n",
    "len(paths)"
   ],
   "outputs": [
    {
     "data": {
      "text/plain": [
       "9572"
      ]
     },
     "execution_count": 4,
     "metadata": {},
     "output_type": "execute_result"
    }
   ],
   "execution_count": 4
  },
  {
   "cell_type": "code",
   "id": "be4fbedbe14c7d35",
   "metadata": {
    "ExecuteTime": {
     "end_time": "2025-04-02T19:57:13.993910Z",
     "start_time": "2025-04-02T19:57:13.984641Z"
    }
   },
   "source": [
    "image_paths_csv=build_image_dataframe(paths)"
   ],
   "outputs": [],
   "execution_count": 5
  },
  {
   "cell_type": "code",
   "id": "dafc5803",
   "metadata": {
    "ExecuteTime": {
     "end_time": "2025-04-02T19:57:13.999793Z",
     "start_time": "2025-04-02T19:57:13.994390Z"
    }
   },
   "source": [
    "image_paths_csv.head(5)"
   ],
   "outputs": [
    {
     "data": {
      "text/plain": [
       "                                 path  age\n",
       "0  ../raw_data2/face_age/024/3949.png   24\n",
       "1  ../raw_data2/face_age/024/4767.png   24\n",
       "2  ../raw_data2/face_age/024/5445.png   24\n",
       "3  ../raw_data2/face_age/024/7520.png   24\n",
       "4  ../raw_data2/face_age/024/2128.png   24"
      ],
      "text/html": [
       "<div>\n",
       "<style scoped>\n",
       "    .dataframe tbody tr th:only-of-type {\n",
       "        vertical-align: middle;\n",
       "    }\n",
       "\n",
       "    .dataframe tbody tr th {\n",
       "        vertical-align: top;\n",
       "    }\n",
       "\n",
       "    .dataframe thead th {\n",
       "        text-align: right;\n",
       "    }\n",
       "</style>\n",
       "<table border=\"1\" class=\"dataframe\">\n",
       "  <thead>\n",
       "    <tr style=\"text-align: right;\">\n",
       "      <th></th>\n",
       "      <th>path</th>\n",
       "      <th>age</th>\n",
       "    </tr>\n",
       "  </thead>\n",
       "  <tbody>\n",
       "    <tr>\n",
       "      <th>0</th>\n",
       "      <td>../raw_data2/face_age/024/3949.png</td>\n",
       "      <td>24</td>\n",
       "    </tr>\n",
       "    <tr>\n",
       "      <th>1</th>\n",
       "      <td>../raw_data2/face_age/024/4767.png</td>\n",
       "      <td>24</td>\n",
       "    </tr>\n",
       "    <tr>\n",
       "      <th>2</th>\n",
       "      <td>../raw_data2/face_age/024/5445.png</td>\n",
       "      <td>24</td>\n",
       "    </tr>\n",
       "    <tr>\n",
       "      <th>3</th>\n",
       "      <td>../raw_data2/face_age/024/7520.png</td>\n",
       "      <td>24</td>\n",
       "    </tr>\n",
       "    <tr>\n",
       "      <th>4</th>\n",
       "      <td>../raw_data2/face_age/024/2128.png</td>\n",
       "      <td>24</td>\n",
       "    </tr>\n",
       "  </tbody>\n",
       "</table>\n",
       "</div>"
      ]
     },
     "execution_count": 6,
     "metadata": {},
     "output_type": "execute_result"
    }
   ],
   "execution_count": 6
  },
  {
   "metadata": {},
   "cell_type": "markdown",
   "source": "",
   "id": "26dae627a598a12c"
  },
  {
   "metadata": {},
   "cell_type": "code",
   "outputs": [],
   "execution_count": null,
   "source": "",
   "id": "f2f1c0bf4d6e5229"
  },
  {
   "metadata": {
    "ExecuteTime": {
     "end_time": "2025-04-02T19:58:24.461163Z",
     "start_time": "2025-04-02T19:58:24.458087Z"
    }
   },
   "cell_type": "code",
   "source": "image_paths_csv.age.value_counts().sort_index()",
   "id": "2437fdfa9ecfc5a6",
   "outputs": [
    {
     "data": {
      "text/plain": [
       "age\n",
       "1      1101\n",
       "2       471\n",
       "3       280\n",
       "4       257\n",
       "5       175\n",
       "       ... \n",
       "96       14\n",
       "99        2\n",
       "100       2\n",
       "101       1\n",
       "110       2\n",
       "Name: count, Length: 99, dtype: int64"
      ]
     },
     "execution_count": 11,
     "metadata": {},
     "output_type": "execute_result"
    }
   ],
   "execution_count": 11
  },
  {
   "cell_type": "code",
   "id": "8a71b8ab84ca8dea",
   "metadata": {
    "ExecuteTime": {
     "end_time": "2025-04-02T19:57:14.200231Z",
     "start_time": "2025-04-02T19:57:14.000717Z"
    }
   },
   "source": "image_paths_csv.age.value_counts().sort_index().plot(kind='bar')",
   "outputs": [
    {
     "data": {
      "text/plain": [
       "<Axes: xlabel='age'>"
      ]
     },
     "execution_count": 7,
     "metadata": {},
     "output_type": "execute_result"
    },
    {
     "data": {
      "text/plain": [
       "<Figure size 640x480 with 1 Axes>"
      ],
      "image/png": "[encoded data removed]"
     },
     "metadata": {},
     "output_type": "display_data"
    }
   ],
   "execution_count": 7
  },
  {
   "cell_type": "code",
   "id": "4d4f7d2c2ea0c0ce",
   "metadata": {
    "ExecuteTime": {
     "end_time": "2025-04-02T20:02:23.047752Z",
     "start_time": "2025-04-02T20:02:22.459991Z"
    }
   },
   "source": [
    "image_paths_csv=bin_ages(image_paths_csv)\n",
    "image_paths_csv_7_classes=bin_ages_7(image_paths_csv)"
   ],
   "outputs": [],
   "execution_count": 16
  },
  {
   "metadata": {
    "ExecuteTime": {
     "end_time": "2025-04-02T20:02:25.477362Z",
     "start_time": "2025-04-02T20:02:25.413947Z"
    }
   },
   "cell_type": "code",
   "source": "image_paths_csv_7_classes.age_bin_label.value_counts().sort_index().plot(kind='bar')",
   "id": "87492ac1fb7f2f1e",
   "outputs": [
    {
     "data": {
      "text/plain": [
       "<Axes: xlabel='age_bin_label'>"
      ]
     },
     "execution_count": 17,
     "metadata": {},
     "output_type": "execute_result"
    },
    {
     "data": {
      "text/plain": [
       "<Figure size 640x480 with 1 Axes>"
      ],
      "image/png": "[encoded data removed]"
     },
     "metadata": {},
     "output_type": "display_data"
    }
   ],
   "execution_count": 17
  },
  {
   "metadata": {
    "ExecuteTime": {
     "end_time": "2025-04-02T19:58:00.928658Z",
     "start_time": "2025-04-02T19:58:00.846589Z"
    }
   },
   "cell_type": "code",
   "source": "image_paths_csv.age_bin_label.value_counts().sort_index().plot(kind='bar')",
   "id": "7a194ce63bbafb04",
   "outputs": [
    {
     "data": {
      "text/plain": [
       "<Axes: xlabel='age_bin_label'>"
      ]
     },
     "execution_count": 10,
     "metadata": {},
     "output_type": "execute_result"
    },
    {
     "data": {
      "text/plain": [
       "<Figure size 640x480 with 1 Axes>"
      ],
      "image/png": "[encoded data removed]"
     },
     "metadata": {},
     "output_type": "display_data"
    }
   ],
   "execution_count": 10
  },
  {
   "cell_type": "code",
   "execution_count": 8,
   "id": "16c3a9dbe4822ddd",
   "metadata": {
    "ExecuteTime": {
     "end_time": "2025-04-02T09:19:41.255158Z",
     "start_time": "2025-04-02T09:19:41.252262Z"
    }
   },
   "outputs": [
    {
     "data": {
      "text/html": [
       "<div>\n",
       "<style scoped>\n",
       "    .dataframe tbody tr th:only-of-type {\n",
       "        vertical-align: middle;\n",
       "    }\n",
       "\n",
       "    .dataframe tbody tr th {\n",
       "        vertical-align: top;\n",
       "    }\n",
       "\n",
       "    .dataframe thead th {\n",
       "        text-align: right;\n",
       "    }\n",
       "</style>\n",
       "<table border=\"1\" class=\"dataframe\">\n",
       "  <thead>\n",
       "    <tr style=\"text-align: right;\">\n",
       "      <th></th>\n",
       "      <th>path</th>\n",
       "      <th>age</th>\n",
       "      <th>age_bin</th>\n",
       "      <th>age_bin_label</th>\n",
       "    </tr>\n",
       "  </thead>\n",
       "  <tbody>\n",
       "    <tr>\n",
       "      <th>0</th>\n",
       "      <td>../raw_data2/face_age/001/1000.png</td>\n",
       "      <td>1</td>\n",
       "      <td>0</td>\n",
       "      <td>Infants (1–2)</td>\n",
       "    </tr>\n",
       "    <tr>\n",
       "      <th>1</th>\n",
       "      <td>../raw_data2/face_age/001/1018.png</td>\n",
       "      <td>1</td>\n",
       "      <td>0</td>\n",
       "      <td>Infants (1–2)</td>\n",
       "    </tr>\n",
       "    <tr>\n",
       "      <th>2</th>\n",
       "      <td>../raw_data2/face_age/001/1030.png</td>\n",
       "      <td>1</td>\n",
       "      <td>0</td>\n",
       "      <td>Infants (1–2)</td>\n",
       "    </tr>\n",
       "    <tr>\n",
       "      <th>3</th>\n",
       "      <td>../raw_data2/face_age/001/1062.png</td>\n",
       "      <td>1</td>\n",
       "      <td>0</td>\n",
       "      <td>Infants (1–2)</td>\n",
       "    </tr>\n",
       "    <tr>\n",
       "      <th>4</th>\n",
       "      <td>../raw_data2/face_age/001/1068.png</td>\n",
       "      <td>1</td>\n",
       "      <td>0</td>\n",
       "      <td>Infants (1–2)</td>\n",
       "    </tr>\n",
       "  </tbody>\n",
       "</table>\n",
       "</div>"
      ],
      "text/plain": [
       "                                 path  age age_bin  age_bin_label\n",
       "0  ../raw_data2/face_age/001/1000.png    1       0  Infants (1–2)\n",
       "1  ../raw_data2/face_age/001/1018.png    1       0  Infants (1–2)\n",
       "2  ../raw_data2/face_age/001/1030.png    1       0  Infants (1–2)\n",
       "3  ../raw_data2/face_age/001/1062.png    1       0  Infants (1–2)\n",
       "4  ../raw_data2/face_age/001/1068.png    1       0  Infants (1–2)"
      ]
     },
     "execution_count": 8,
     "metadata": {},
     "output_type": "execute_result"
    }
   ],
   "source": [
    "image_paths_csv.head()"
   ]
  },
  {
   "cell_type": "code",
   "execution_count": 9,
   "id": "219604bfba6ef99a",
   "metadata": {
    "ExecuteTime": {
     "end_time": "2025-04-02T09:19:41.257878Z",
     "start_time": "2025-04-02T09:19:41.255691Z"
    }
   },
   "outputs": [
    {
     "data": {
      "text/plain": [
       "0       ../raw_data2/face_age/001/1000.png\n",
       "1       ../raw_data2/face_age/001/1018.png\n",
       "2       ../raw_data2/face_age/001/1030.png\n",
       "3       ../raw_data2/face_age/001/1062.png\n",
       "4       ../raw_data2/face_age/001/1068.png\n",
       "                       ...                \n",
       "9567    ../raw_data2/face_age/100/2694.png\n",
       "9568    ../raw_data2/face_age/100/6408.png\n",
       "9569    ../raw_data2/face_age/101/1554.png\n",
       "9570    ../raw_data2/face_age/110/3906.png\n",
       "9571    ../raw_data2/face_age/110/9628.png\n",
       "Name: path, Length: 9572, dtype: object"
      ]
     },
     "execution_count": 9,
     "metadata": {},
     "output_type": "execute_result"
    }
   ],
   "source": [
    "image_paths_csv.path"
   ]
  },
  {
   "cell_type": "code",
   "id": "5227d58c6878e919",
   "metadata": {
    "ExecuteTime": {
     "end_time": "2025-04-02T20:03:20.920319Z",
     "start_time": "2025-04-02T20:03:20.878383Z"
    }
   },
   "source": [
    "import os\n",
    "os.makedirs(\"./processed_data\",exist_ok=True)\n",
    "\n",
    "image_paths_csv.to_csv(\"./processed_data/image_paths.csv\", index=False)\n",
    "image_paths_csv_7_classes.to_csv(\"./processed_data/image_paths_7_classes.csv\", index=False)"
   ],
   "outputs": [],
   "execution_count": 18
  },
  {
   "cell_type": "code",
   "execution_count": 11,
   "id": "fbb68066931a6592",
   "metadata": {
    "ExecuteTime": {
     "end_time": "2025-04-02T09:19:41.274422Z",
     "start_time": "2025-04-02T09:19:41.271269Z"
    }
   },
   "outputs": [
    {
     "data": {
      "text/plain": [
       "age_bin\n",
       "0     1572\n",
       "1      712\n",
       "2      459\n",
       "3      453\n",
       "4      641\n",
       "5      875\n",
       "6     1325\n",
       "7      854\n",
       "8      901\n",
       "9      710\n",
       "10     489\n",
       "11     299\n",
       "12     282\n",
       "Name: count, dtype: int64"
      ]
     },
     "execution_count": 11,
     "metadata": {},
     "output_type": "execute_result"
    }
   ],
   "source": [
    "image_paths_csv.age_bin.value_counts().sort_index()"
   ]
  },
  {
   "cell_type": "code",
   "execution_count": 12,
   "id": "35526a038200877a",
   "metadata": {
    "ExecuteTime": {
     "end_time": "2025-04-02T09:19:41.278158Z",
     "start_time": "2025-04-02T09:19:41.274909Z"
    }
   },
   "outputs": [],
   "source": [
    "paths_train_df, paths_val_df, paths_test_df = split_data(image_paths_csv)"
   ]
  }
 ],
 "metadata": {
  "kernelspec": {
   "display_name": "Python 3",
   "language": "python",
   "name": "python3"
  },
  "language_info": {
   "codemirror_mode": {
    "name": "ipython",
    "version": 3
   },
   "file_extension": ".py",
   "mimetype": "text/x-python",
   "name": "python",
   "nbconvert_exporter": "python",
   "pygments_lexer": "ipython3",
   "version": "3.11.11"
  }
 },
 "nbformat": 4,
 "nbformat_minor": 5
}
