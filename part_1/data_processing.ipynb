{
 "cells": [
  {
   "metadata": {
    "ExecuteTime": {
     "end_time": "2025-03-31T23:44:50.434264Z",
     "start_time": "2025-03-31T23:44:50.336379Z"
    }
   },
   "cell_type": "code",
   "source": [
    "import importlib\n",
    "import common_utils\n",
    "importlib.reload(common_utils)\n",
    "from common_utils import get_unique_image_shapes,get_unique_image_paths,load_images_from_paths,build_image_dataframe,split_data, bin_ages\n",
    "import tensorflow as tf\n",
    "import numpy as np\n",
    "from pathlib import Path"
   ],
   "id": "d9cfac92cb23c89a",
   "outputs": [],
   "execution_count": 3
  },
  {
   "metadata": {},
   "cell_type": "markdown",
   "source": "Check the shapes to see what we are working with and know how to handle the imput into the model later on",
   "id": "e1fbae83435ec599"
  },
  {
   "metadata": {
    "ExecuteTime": {
     "end_time": "2025-03-31T23:44:59.207607Z",
     "start_time": "2025-03-31T23:44:50.440807Z"
    }
   },
   "cell_type": "code",
   "source": [
    "unique_shapes = get_unique_image_shapes()\n",
    "for shape in unique_shapes:\n",
    "    print(shape)\n"
   ],
   "id": "93684586556e42f5",
   "outputs": [
    {
     "name": "stderr",
     "output_type": "stream",
     "text": [
      "I0000 00:00:1743464690.584093   66666 gpu_device.cc:2019] Created device /job:localhost/replica:0/task:0/device:GPU:0 with 6172 MB memory:  -> device: 0, name: NVIDIA GeForce RTX 3070 Laptop GPU, pci bus id: 0000:01:00.0, compute capability: 8.6\n"
     ]
    },
    {
     "name": "stdout",
     "output_type": "stream",
     "text": [
      "(200, 200, 3)\n"
     ]
    }
   ],
   "execution_count": 4
  },
  {
   "metadata": {
    "ExecuteTime": {
     "end_time": "2025-03-31T23:45:23.552147Z",
     "start_time": "2025-03-31T23:45:21.937458Z"
    }
   },
   "cell_type": "code",
   "source": [
    "paths=get_unique_image_paths()\n",
    "len(paths)"
   ],
   "id": "f199ddc2d744ab48",
   "outputs": [
    {
     "data": {
      "text/plain": [
       "9572"
      ]
     },
     "execution_count": 8,
     "metadata": {},
     "output_type": "execute_result"
    }
   ],
   "execution_count": 8
  },
  {
   "metadata": {
    "ExecuteTime": {
     "end_time": "2025-03-31T23:45:23.582838Z",
     "start_time": "2025-03-31T23:45:23.572142Z"
    }
   },
   "cell_type": "code",
   "source": "image_paths_csv=build_image_dataframe(paths)",
   "id": "be4fbedbe14c7d35",
   "outputs": [],
   "execution_count": 9
  },
  {
   "metadata": {
    "ExecuteTime": {
     "end_time": "2025-03-31T23:45:24.006414Z",
     "start_time": "2025-03-31T23:45:23.631331Z"
    }
   },
   "cell_type": "code",
   "source": "image_paths_csv.age.value_counts().sort_index().plot(kind='bar')",
   "id": "8a71b8ab84ca8dea",
   "outputs": [
    {
     "data": {
      "text/plain": [
       "<Axes: xlabel='age'>"
      ]
     },
     "execution_count": 10,
     "metadata": {},
     "output_type": "execute_result"
    },
    {
     "data": {
      "text/plain": [
       "<Figure size 640x480 with 1 Axes>"
      ],
      "image/png": "[encoded data removed]"
     },
     "metadata": {},
     "output_type": "display_data"
    }
   ],
   "execution_count": 10
  },
  {
   "metadata": {
    "ExecuteTime": {
     "end_time": "2025-03-31T23:45:24.355297Z",
     "start_time": "2025-03-31T23:45:24.012375Z"
    }
   },
   "cell_type": "code",
   "source": "image_paths_csv=bin_ages(image_paths_csv)",
   "id": "4d4f7d2c2ea0c0ce",
   "outputs": [],
   "execution_count": 11
  },
  {
   "metadata": {
    "ExecuteTime": {
     "end_time": "2025-03-31T23:45:24.365576Z",
     "start_time": "2025-03-31T23:45:24.361073Z"
    }
   },
   "cell_type": "code",
   "source": "image_paths_csv.head()",
   "id": "16c3a9dbe4822ddd",
   "outputs": [
    {
     "data": {
      "text/plain": [
       "                                path  age age_bin         age_bin_label\n",
       "0  ../raw_data/face_age/018/4794.png   18       5  Young Adults (18–24)\n",
       "1  ../raw_data/face_age/018/8685.png   18       5  Young Adults (18–24)\n",
       "2  ../raw_data/face_age/018/6771.png   18       5  Young Adults (18–24)\n",
       "3  ../raw_data/face_age/018/3967.png   18       5  Young Adults (18–24)\n",
       "4  ../raw_data/face_age/018/5160.png   18       5  Young Adults (18–24)"
      ],
      "text/html": [
       "<div>\n",
       "<style scoped>\n",
       "    .dataframe tbody tr th:only-of-type {\n",
       "        vertical-align: middle;\n",
       "    }\n",
       "\n",
       "    .dataframe tbody tr th {\n",
       "        vertical-align: top;\n",
       "    }\n",
       "\n",
       "    .dataframe thead th {\n",
       "        text-align: right;\n",
       "    }\n",
       "</style>\n",
       "<table border=\"1\" class=\"dataframe\">\n",
       "  <thead>\n",
       "    <tr style=\"text-align: right;\">\n",
       "      <th></th>\n",
       "      <th>path</th>\n",
       "      <th>age</th>\n",
       "      <th>age_bin</th>\n",
       "      <th>age_bin_label</th>\n",
       "    </tr>\n",
       "  </thead>\n",
       "  <tbody>\n",
       "    <tr>\n",
       "      <th>0</th>\n",
       "      <td>../raw_data/face_age/018/4794.png</td>\n",
       "      <td>18</td>\n",
       "      <td>5</td>\n",
       "      <td>Young Adults (18–24)</td>\n",
       "    </tr>\n",
       "    <tr>\n",
       "      <th>1</th>\n",
       "      <td>../raw_data/face_age/018/8685.png</td>\n",
       "      <td>18</td>\n",
       "      <td>5</td>\n",
       "      <td>Young Adults (18–24)</td>\n",
       "    </tr>\n",
       "    <tr>\n",
       "      <th>2</th>\n",
       "      <td>../raw_data/face_age/018/6771.png</td>\n",
       "      <td>18</td>\n",
       "      <td>5</td>\n",
       "      <td>Young Adults (18–24)</td>\n",
       "    </tr>\n",
       "    <tr>\n",
       "      <th>3</th>\n",
       "      <td>../raw_data/face_age/018/3967.png</td>\n",
       "      <td>18</td>\n",
       "      <td>5</td>\n",
       "      <td>Young Adults (18–24)</td>\n",
       "    </tr>\n",
       "    <tr>\n",
       "      <th>4</th>\n",
       "      <td>../raw_data/face_age/018/5160.png</td>\n",
       "      <td>18</td>\n",
       "      <td>5</td>\n",
       "      <td>Young Adults (18–24)</td>\n",
       "    </tr>\n",
       "  </tbody>\n",
       "</table>\n",
       "</div>"
      ]
     },
     "execution_count": 12,
     "metadata": {},
     "output_type": "execute_result"
    }
   ],
   "execution_count": 12
  },
  {
   "metadata": {
    "ExecuteTime": {
     "end_time": "2025-03-31T23:45:24.461072Z",
     "start_time": "2025-03-31T23:45:24.456529Z"
    }
   },
   "cell_type": "code",
   "source": "image_paths_csv.path",
   "id": "219604bfba6ef99a",
   "outputs": [
    {
     "data": {
      "text/plain": [
       "0       ../raw_data/face_age/018/4794.png\n",
       "1       ../raw_data/face_age/018/8685.png\n",
       "2       ../raw_data/face_age/018/6771.png\n",
       "3       ../raw_data/face_age/018/3967.png\n",
       "4       ../raw_data/face_age/018/5160.png\n",
       "                      ...                \n",
       "9567    ../raw_data/face_age/040/2647.png\n",
       "9568    ../raw_data/face_age/040/2248.png\n",
       "9569    ../raw_data/face_age/040/3265.png\n",
       "9570    ../raw_data/face_age/040/4480.png\n",
       "9571     ../raw_data/face_age/040/549.png\n",
       "Name: path, Length: 9572, dtype: object"
      ]
     },
     "execution_count": 13,
     "metadata": {},
     "output_type": "execute_result"
    }
   ],
   "execution_count": 13
  },
  {
   "metadata": {
    "ExecuteTime": {
     "end_time": "2025-03-31T23:45:24.512688Z",
     "start_time": "2025-03-31T23:45:24.499340Z"
    }
   },
   "cell_type": "code",
   "source": "image_paths_csv.to_csv(\"./processed_data/image_paths.csv\", index=False)",
   "id": "5227d58c6878e919",
   "outputs": [],
   "execution_count": 14
  },
  {
   "metadata": {
    "ExecuteTime": {
     "end_time": "2025-03-31T23:45:24.575822Z",
     "start_time": "2025-03-31T23:45:24.570255Z"
    }
   },
   "cell_type": "code",
   "source": "image_paths_csv.age_bin.value_counts().sort_index()",
   "id": "fbb68066931a6592",
   "outputs": [
    {
     "data": {
      "text/plain": [
       "age_bin\n",
       "0     1572\n",
       "1      712\n",
       "2      459\n",
       "3      453\n",
       "4      641\n",
       "5      875\n",
       "6     1325\n",
       "7      854\n",
       "8      901\n",
       "9      710\n",
       "10     489\n",
       "11     299\n",
       "12     282\n",
       "Name: count, dtype: int64"
      ]
     },
     "execution_count": 15,
     "metadata": {},
     "output_type": "execute_result"
    }
   ],
   "execution_count": 15
  },
  {
   "metadata": {
    "ExecuteTime": {
     "end_time": "2025-03-31T23:45:24.647195Z",
     "start_time": "2025-03-31T23:45:24.642989Z"
    }
   },
   "cell_type": "code",
   "source": "paths_train_df, paths_val_df, paths_test_df = split_data(image_paths_csv)",
   "id": "35526a038200877a",
   "outputs": [],
   "execution_count": 16
  }
 ],
 "metadata": {
  "kernelspec": {
   "display_name": "Python 3",
   "language": "python",
   "name": "python3"
  },
  "language_info": {
   "codemirror_mode": {
    "name": "ipython",
    "version": 2
   },
   "file_extension": ".py",
   "mimetype": "text/x-python",
   "name": "python",
   "nbconvert_exporter": "python",
   "pygments_lexer": "ipython2",
   "version": "2.7.6"
  }
 },
 "nbformat": 4,
 "nbformat_minor": 5
}
