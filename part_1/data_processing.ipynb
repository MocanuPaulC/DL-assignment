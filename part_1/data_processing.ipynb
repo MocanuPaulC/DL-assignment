{
 "cells": [
  {
   "metadata": {
    "ExecuteTime": {
     "end_time": "2025-03-31T20:42:19.560780Z",
     "start_time": "2025-03-31T20:42:19.545939Z"
    }
   },
   "cell_type": "code",
   "source": [
    "import importlib\n",
    "import common_utils\n",
    "importlib.reload(common_utils)\n",
    "from common_utils import get_unique_image_shapes,get_unique_image_paths,load_images_from_paths,build_image_dataframe,split_data, bin_ages\n",
    "import tensorflow as tf\n",
    "import numpy as np\n",
    "from pathlib import Path"
   ],
   "id": "d9cfac92cb23c89a",
   "outputs": [],
   "execution_count": 29
  },
  {
   "metadata": {},
   "cell_type": "markdown",
   "source": "Check the shapes to see what we are working with and know how to handle the imput into the model later on",
   "id": "e1fbae83435ec599"
  },
  {
   "metadata": {
    "ExecuteTime": {
     "end_time": "2025-03-31T19:23:11.072775Z",
     "start_time": "2025-03-31T19:22:50.376088Z"
    }
   },
   "cell_type": "code",
   "source": [
    "unique_shapes = get_unique_image_shapes()\n",
    "for shape in unique_shapes:\n",
    "    print(shape)\n"
   ],
   "id": "93684586556e42f5",
   "outputs": [
    {
     "name": "stderr",
     "output_type": "stream",
     "text": [
      "2025-03-31 20:22:50.547815: I metal_plugin/src/device/metal_device.cc:1154] Metal device set to: Apple M3\n",
      "2025-03-31 20:22:50.547945: I metal_plugin/src/device/metal_device.cc:296] systemMemory: 16.00 GB\n",
      "2025-03-31 20:22:50.547957: I metal_plugin/src/device/metal_device.cc:313] maxCacheSize: 5.33 GB\n",
      "2025-03-31 20:22:50.548120: I tensorflow/core/common_runtime/pluggable_device/pluggable_device_factory.cc:305] Could not identify NUMA node of platform GPU ID 0, defaulting to 0. Your kernel may not have been built with NUMA support.\n",
      "2025-03-31 20:22:50.548128: I tensorflow/core/common_runtime/pluggable_device/pluggable_device_factory.cc:271] Created TensorFlow device (/job:localhost/replica:0/task:0/device:GPU:0 with 0 MB memory) -> physical PluggableDevice (device: 0, name: METAL, pci bus id: <undefined>)\n"
     ]
    },
    {
     "name": "stdout",
     "output_type": "stream",
     "text": [
      "(200, 200, 3)\n"
     ]
    }
   ],
   "execution_count": 5
  },
  {
   "metadata": {
    "ExecuteTime": {
     "end_time": "2025-03-31T20:13:45.408041Z",
     "start_time": "2025-03-31T20:13:38.971877Z"
    }
   },
   "cell_type": "code",
   "source": [
    "paths=get_unique_image_paths()\n",
    "len(paths)"
   ],
   "id": "f199ddc2d744ab48",
   "outputs": [
    {
     "data": {
      "text/plain": [
       "9572"
      ]
     },
     "execution_count": 2,
     "metadata": {},
     "output_type": "execute_result"
    }
   ],
   "execution_count": 2
  },
  {
   "metadata": {
    "ExecuteTime": {
     "end_time": "2025-03-31T20:14:01.661599Z",
     "start_time": "2025-03-31T20:14:01.650670Z"
    }
   },
   "cell_type": "code",
   "source": "image_paths_csv=build_image_dataframe(paths)",
   "id": "be4fbedbe14c7d35",
   "outputs": [],
   "execution_count": 3
  },
  {
   "metadata": {
    "ExecuteTime": {
     "end_time": "2025-03-31T20:28:36.962225Z",
     "start_time": "2025-03-31T20:28:36.514139Z"
    }
   },
   "cell_type": "code",
   "source": "image_paths_csv.age.value_counts().sort_index().plot(kind='bar')",
   "id": "8a71b8ab84ca8dea",
   "outputs": [
    {
     "data": {
      "text/plain": [
       "<Axes: xlabel='age'>"
      ]
     },
     "execution_count": 7,
     "metadata": {},
     "output_type": "execute_result"
    },
    {
     "data": {
      "text/plain": [
       "<Figure size 640x480 with 1 Axes>"
      ],
      "image/png": "[encoded data removed]"
     },
     "metadata": {},
     "output_type": "display_data"
    }
   ],
   "execution_count": 7
  },
  {
   "metadata": {
    "ExecuteTime": {
     "end_time": "2025-03-31T20:42:22.696855Z",
     "start_time": "2025-03-31T20:42:22.358841Z"
    }
   },
   "cell_type": "code",
   "source": "image_paths_csv=bin_ages(image_paths_csv)",
   "id": "4d4f7d2c2ea0c0ce",
   "outputs": [],
   "execution_count": 30
  },
  {
   "metadata": {
    "ExecuteTime": {
     "end_time": "2025-03-31T20:42:23.538096Z",
     "start_time": "2025-03-31T20:42:23.531883Z"
    }
   },
   "cell_type": "code",
   "source": "image_paths_csv.head()",
   "id": "16c3a9dbe4822ddd",
   "outputs": [
    {
     "data": {
      "text/plain": [
       "                                path  age age_bin         age_bin_label\n",
       "0  ../raw_data/face_age/024/3949.png   24       5  Young Adults (18–24)\n",
       "1  ../raw_data/face_age/024/4767.png   24       5  Young Adults (18–24)\n",
       "2  ../raw_data/face_age/024/5445.png   24       5  Young Adults (18–24)\n",
       "3  ../raw_data/face_age/024/7520.png   24       5  Young Adults (18–24)\n",
       "4  ../raw_data/face_age/024/2128.png   24       5  Young Adults (18–24)"
      ],
      "text/html": [
       "<div>\n",
       "<style scoped>\n",
       "    .dataframe tbody tr th:only-of-type {\n",
       "        vertical-align: middle;\n",
       "    }\n",
       "\n",
       "    .dataframe tbody tr th {\n",
       "        vertical-align: top;\n",
       "    }\n",
       "\n",
       "    .dataframe thead th {\n",
       "        text-align: right;\n",
       "    }\n",
       "</style>\n",
       "<table border=\"1\" class=\"dataframe\">\n",
       "  <thead>\n",
       "    <tr style=\"text-align: right;\">\n",
       "      <th></th>\n",
       "      <th>path</th>\n",
       "      <th>age</th>\n",
       "      <th>age_bin</th>\n",
       "      <th>age_bin_label</th>\n",
       "    </tr>\n",
       "  </thead>\n",
       "  <tbody>\n",
       "    <tr>\n",
       "      <th>0</th>\n",
       "      <td>../raw_data/face_age/024/3949.png</td>\n",
       "      <td>24</td>\n",
       "      <td>5</td>\n",
       "      <td>Young Adults (18–24)</td>\n",
       "    </tr>\n",
       "    <tr>\n",
       "      <th>1</th>\n",
       "      <td>../raw_data/face_age/024/4767.png</td>\n",
       "      <td>24</td>\n",
       "      <td>5</td>\n",
       "      <td>Young Adults (18–24)</td>\n",
       "    </tr>\n",
       "    <tr>\n",
       "      <th>2</th>\n",
       "      <td>../raw_data/face_age/024/5445.png</td>\n",
       "      <td>24</td>\n",
       "      <td>5</td>\n",
       "      <td>Young Adults (18–24)</td>\n",
       "    </tr>\n",
       "    <tr>\n",
       "      <th>3</th>\n",
       "      <td>../raw_data/face_age/024/7520.png</td>\n",
       "      <td>24</td>\n",
       "      <td>5</td>\n",
       "      <td>Young Adults (18–24)</td>\n",
       "    </tr>\n",
       "    <tr>\n",
       "      <th>4</th>\n",
       "      <td>../raw_data/face_age/024/2128.png</td>\n",
       "      <td>24</td>\n",
       "      <td>5</td>\n",
       "      <td>Young Adults (18–24)</td>\n",
       "    </tr>\n",
       "  </tbody>\n",
       "</table>\n",
       "</div>"
      ]
     },
     "execution_count": 31,
     "metadata": {},
     "output_type": "execute_result"
    }
   ],
   "execution_count": 31
  },
  {
   "metadata": {
    "ExecuteTime": {
     "end_time": "2025-03-31T22:47:53.577522Z",
     "start_time": "2025-03-31T22:47:53.571620Z"
    }
   },
   "cell_type": "code",
   "source": "image_paths_csv.path",
   "id": "219604bfba6ef99a",
   "outputs": [
    {
     "data": {
      "text/plain": [
       "0       ../raw_data/face_age/024/3949.png\n",
       "1       ../raw_data/face_age/024/4767.png\n",
       "2       ../raw_data/face_age/024/5445.png\n",
       "3       ../raw_data/face_age/024/7520.png\n",
       "4       ../raw_data/face_age/024/2128.png\n",
       "                      ...                \n",
       "9567    ../raw_data/face_age/060/7471.png\n",
       "9568    ../raw_data/face_age/060/6784.png\n",
       "9569    ../raw_data/face_age/060/6237.png\n",
       "9570    ../raw_data/face_age/060/2079.png\n",
       "9571    ../raw_data/face_age/060/5138.png\n",
       "Name: path, Length: 9572, dtype: object"
      ]
     },
     "execution_count": 35,
     "metadata": {},
     "output_type": "execute_result"
    }
   ],
   "execution_count": 35
  },
  {
   "metadata": {
    "ExecuteTime": {
     "end_time": "2025-03-31T20:49:08.971253Z",
     "start_time": "2025-03-31T20:49:08.945097Z"
    }
   },
   "cell_type": "code",
   "source": "image_paths_csv.to_csv(\"./processed_data/image_paths.csv\", index=False)",
   "id": "5227d58c6878e919",
   "outputs": [],
   "execution_count": 32
  },
  {
   "metadata": {
    "ExecuteTime": {
     "end_time": "2025-03-31T21:15:45.242876Z",
     "start_time": "2025-03-31T21:15:45.219455Z"
    }
   },
   "cell_type": "code",
   "source": "image_paths_csv.age_bin.value_counts().sort_index()",
   "id": "fbb68066931a6592",
   "outputs": [
    {
     "data": {
      "text/plain": [
       "age_bin\n",
       "0     1572\n",
       "1      712\n",
       "2      459\n",
       "3      453\n",
       "4      641\n",
       "5      875\n",
       "6     1325\n",
       "7      854\n",
       "8      901\n",
       "9      710\n",
       "10     489\n",
       "11     299\n",
       "12     282\n",
       "Name: count, dtype: int64"
      ]
     },
     "execution_count": 33,
     "metadata": {},
     "output_type": "execute_result"
    }
   ],
   "execution_count": 33
  },
  {
   "metadata": {},
   "cell_type": "code",
   "outputs": [],
   "execution_count": null,
   "source": "paths_train_df, paths_val_df, paths_test_df = split_data(image_paths_csv)",
   "id": "35526a038200877a"
  }
 ],
 "metadata": {
  "kernelspec": {
   "display_name": "Python 3",
   "language": "python",
   "name": "python3"
  },
  "language_info": {
   "codemirror_mode": {
    "name": "ipython",
    "version": 2
   },
   "file_extension": ".py",
   "mimetype": "text/x-python",
   "name": "python",
   "nbconvert_exporter": "python",
   "pygments_lexer": "ipython2",
   "version": "2.7.6"
  }
 },
 "nbformat": 4,
 "nbformat_minor": 5
}
