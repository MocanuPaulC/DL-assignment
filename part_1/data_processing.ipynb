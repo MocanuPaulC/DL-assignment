{
 "cells": [
  {
   "cell_type": "code",
   "id": "d9cfac92cb23c89a",
   "metadata": {
    "ExecuteTime": {
     "end_time": "2025-04-02T09:19:35.627820Z",
     "start_time": "2025-04-02T09:19:31.707040Z"
    }
   },
   "source": [
    "import sys\n",
    "from pathlib import Path\n",
    "\n",
    "# Add parent directory to sys.path\n",
    "parent_dir = Path(\"..\").resolve()\n",
    "if str(parent_dir) not in sys.path:\n",
    "    sys.path.insert(0, str(parent_dir))\n",
    "\n",
    "# Now import your module\n",
    "import importlib\n",
    "import common_utils\n",
    "importlib.reload(common_utils)\n",
    "\n",
    "# Import specific functions\n",
    "from common_utils import (\n",
    "    get_unique_image_shapes,\n",
    "    get_unique_image_paths,\n",
    "    load_images_from_paths,\n",
    "    build_image_dataframe,\n",
    "    split_data,\n",
    "    bin_ages\n",
    ")\n"
   ],
   "outputs": [],
   "execution_count": 1
  },
  {
   "cell_type": "markdown",
   "id": "e1fbae83435ec599",
   "metadata": {},
   "source": [
    "Check the shapes to see what we are working with and know how to handle the imput into the model later on"
   ]
  },
  {
   "cell_type": "code",
   "id": "93684586556e42f5",
   "metadata": {
    "ExecuteTime": {
     "end_time": "2025-04-02T09:19:35.630189Z",
     "start_time": "2025-04-02T09:19:35.628835Z"
    }
   },
   "source": [
    "# unique_shapes = get_unique_image_shapes()\n",
    "# for shape in unique_shapes:\n",
    "#     print(shape)\n"
   ],
   "outputs": [],
   "execution_count": 2
  },
  {
   "cell_type": "code",
   "id": "f199ddc2d744ab48",
   "metadata": {
    "ExecuteTime": {
     "end_time": "2025-04-02T09:19:40.978257Z",
     "start_time": "2025-04-02T09:19:35.630680Z"
    }
   },
   "source": [
    "paths=get_unique_image_paths()\n",
    "len(paths)"
   ],
   "outputs": [
    {
     "data": {
      "text/plain": [
       "9572"
      ]
     },
     "execution_count": 3,
     "metadata": {},
     "output_type": "execute_result"
    }
   ],
   "execution_count": 3
  },
  {
   "cell_type": "code",
   "id": "be4fbedbe14c7d35",
   "metadata": {
    "ExecuteTime": {
     "end_time": "2025-04-02T09:19:40.986693Z",
     "start_time": "2025-04-02T09:19:40.978845Z"
    }
   },
   "source": [
    "image_paths_csv=build_image_dataframe(paths)"
   ],
   "outputs": [],
   "execution_count": 4
  },
  {
   "cell_type": "code",
   "id": "dafc5803",
   "metadata": {
    "ExecuteTime": {
     "end_time": "2025-04-02T09:19:40.991933Z",
     "start_time": "2025-04-02T09:19:40.988018Z"
    }
   },
   "source": [
    "image_paths_csv.head(5)"
   ],
   "outputs": [
    {
     "data": {
      "text/plain": [
       "                                 path  age\n",
       "0  ../raw_data2/face_age/024/3949.png   24\n",
       "1  ../raw_data2/face_age/024/4767.png   24\n",
       "2  ../raw_data2/face_age/024/5445.png   24\n",
       "3  ../raw_data2/face_age/024/7520.png   24\n",
       "4  ../raw_data2/face_age/024/2128.png   24"
      ],
      "text/html": [
       "<div>\n",
       "<style scoped>\n",
       "    .dataframe tbody tr th:only-of-type {\n",
       "        vertical-align: middle;\n",
       "    }\n",
       "\n",
       "    .dataframe tbody tr th {\n",
       "        vertical-align: top;\n",
       "    }\n",
       "\n",
       "    .dataframe thead th {\n",
       "        text-align: right;\n",
       "    }\n",
       "</style>\n",
       "<table border=\"1\" class=\"dataframe\">\n",
       "  <thead>\n",
       "    <tr style=\"text-align: right;\">\n",
       "      <th></th>\n",
       "      <th>path</th>\n",
       "      <th>age</th>\n",
       "    </tr>\n",
       "  </thead>\n",
       "  <tbody>\n",
       "    <tr>\n",
       "      <th>0</th>\n",
       "      <td>../raw_data2/face_age/024/3949.png</td>\n",
       "      <td>24</td>\n",
       "    </tr>\n",
       "    <tr>\n",
       "      <th>1</th>\n",
       "      <td>../raw_data2/face_age/024/4767.png</td>\n",
       "      <td>24</td>\n",
       "    </tr>\n",
       "    <tr>\n",
       "      <th>2</th>\n",
       "      <td>../raw_data2/face_age/024/5445.png</td>\n",
       "      <td>24</td>\n",
       "    </tr>\n",
       "    <tr>\n",
       "      <th>3</th>\n",
       "      <td>../raw_data2/face_age/024/7520.png</td>\n",
       "      <td>24</td>\n",
       "    </tr>\n",
       "    <tr>\n",
       "      <th>4</th>\n",
       "      <td>../raw_data2/face_age/024/2128.png</td>\n",
       "      <td>24</td>\n",
       "    </tr>\n",
       "  </tbody>\n",
       "</table>\n",
       "</div>"
      ]
     },
     "execution_count": 5,
     "metadata": {},
     "output_type": "execute_result"
    }
   ],
   "execution_count": 5
  },
  {
   "cell_type": "code",
   "id": "8a71b8ab84ca8dea",
   "metadata": {
    "ExecuteTime": {
     "end_time": "2025-04-02T09:19:40.993784Z",
     "start_time": "2025-04-02T09:19:40.992454Z"
    }
   },
   "source": [
    "# image_paths_csv.age.value_counts().sort_index().plot(kind='bar')"
   ],
   "outputs": [],
   "execution_count": 6
  },
  {
   "cell_type": "code",
   "id": "4d4f7d2c2ea0c0ce",
   "metadata": {
    "ExecuteTime": {
     "end_time": "2025-04-02T09:19:41.251547Z",
     "start_time": "2025-04-02T09:19:40.994311Z"
    }
   },
   "source": [
    "image_paths_csv=bin_ages(image_paths_csv)"
   ],
   "outputs": [],
   "execution_count": 7
  },
  {
   "cell_type": "code",
   "id": "16c3a9dbe4822ddd",
   "metadata": {
    "ExecuteTime": {
     "end_time": "2025-04-02T09:19:41.255158Z",
     "start_time": "2025-04-02T09:19:41.252262Z"
    }
   },
   "source": [
    "image_paths_csv.head()"
   ],
   "outputs": [
    {
     "data": {
      "text/plain": [
       "                                 path  age age_bin         age_bin_label\n",
       "0  ../raw_data2/face_age/024/3949.png   24       5  Young Adults (18–24)\n",
       "1  ../raw_data2/face_age/024/4767.png   24       5  Young Adults (18–24)\n",
       "2  ../raw_data2/face_age/024/5445.png   24       5  Young Adults (18–24)\n",
       "3  ../raw_data2/face_age/024/7520.png   24       5  Young Adults (18–24)\n",
       "4  ../raw_data2/face_age/024/2128.png   24       5  Young Adults (18–24)"
      ],
      "text/html": [
       "<div>\n",
       "<style scoped>\n",
       "    .dataframe tbody tr th:only-of-type {\n",
       "        vertical-align: middle;\n",
       "    }\n",
       "\n",
       "    .dataframe tbody tr th {\n",
       "        vertical-align: top;\n",
       "    }\n",
       "\n",
       "    .dataframe thead th {\n",
       "        text-align: right;\n",
       "    }\n",
       "</style>\n",
       "<table border=\"1\" class=\"dataframe\">\n",
       "  <thead>\n",
       "    <tr style=\"text-align: right;\">\n",
       "      <th></th>\n",
       "      <th>path</th>\n",
       "      <th>age</th>\n",
       "      <th>age_bin</th>\n",
       "      <th>age_bin_label</th>\n",
       "    </tr>\n",
       "  </thead>\n",
       "  <tbody>\n",
       "    <tr>\n",
       "      <th>0</th>\n",
       "      <td>../raw_data2/face_age/024/3949.png</td>\n",
       "      <td>24</td>\n",
       "      <td>5</td>\n",
       "      <td>Young Adults (18–24)</td>\n",
       "    </tr>\n",
       "    <tr>\n",
       "      <th>1</th>\n",
       "      <td>../raw_data2/face_age/024/4767.png</td>\n",
       "      <td>24</td>\n",
       "      <td>5</td>\n",
       "      <td>Young Adults (18–24)</td>\n",
       "    </tr>\n",
       "    <tr>\n",
       "      <th>2</th>\n",
       "      <td>../raw_data2/face_age/024/5445.png</td>\n",
       "      <td>24</td>\n",
       "      <td>5</td>\n",
       "      <td>Young Adults (18–24)</td>\n",
       "    </tr>\n",
       "    <tr>\n",
       "      <th>3</th>\n",
       "      <td>../raw_data2/face_age/024/7520.png</td>\n",
       "      <td>24</td>\n",
       "      <td>5</td>\n",
       "      <td>Young Adults (18–24)</td>\n",
       "    </tr>\n",
       "    <tr>\n",
       "      <th>4</th>\n",
       "      <td>../raw_data2/face_age/024/2128.png</td>\n",
       "      <td>24</td>\n",
       "      <td>5</td>\n",
       "      <td>Young Adults (18–24)</td>\n",
       "    </tr>\n",
       "  </tbody>\n",
       "</table>\n",
       "</div>"
      ]
     },
     "execution_count": 8,
     "metadata": {},
     "output_type": "execute_result"
    }
   ],
   "execution_count": 8
  },
  {
   "cell_type": "code",
   "id": "219604bfba6ef99a",
   "metadata": {
    "ExecuteTime": {
     "end_time": "2025-04-02T09:19:41.257878Z",
     "start_time": "2025-04-02T09:19:41.255691Z"
    }
   },
   "source": [
    "image_paths_csv.path"
   ],
   "outputs": [
    {
     "data": {
      "text/plain": [
       "0       ../raw_data2/face_age/024/3949.png\n",
       "1       ../raw_data2/face_age/024/4767.png\n",
       "2       ../raw_data2/face_age/024/5445.png\n",
       "3       ../raw_data2/face_age/024/7520.png\n",
       "4       ../raw_data2/face_age/024/2128.png\n",
       "                       ...                \n",
       "9567    ../raw_data2/face_age/060/7471.png\n",
       "9568    ../raw_data2/face_age/060/6784.png\n",
       "9569    ../raw_data2/face_age/060/6237.png\n",
       "9570    ../raw_data2/face_age/060/2079.png\n",
       "9571    ../raw_data2/face_age/060/5138.png\n",
       "Name: path, Length: 9572, dtype: object"
      ]
     },
     "execution_count": 9,
     "metadata": {},
     "output_type": "execute_result"
    }
   ],
   "execution_count": 9
  },
  {
   "cell_type": "code",
   "id": "5227d58c6878e919",
   "metadata": {
    "ExecuteTime": {
     "end_time": "2025-04-02T09:19:41.270701Z",
     "start_time": "2025-04-02T09:19:41.258392Z"
    }
   },
   "source": [
    "import os\n",
    "os.makedirs(\"./processed_data\",exist_ok=True)\n",
    "\n",
    "image_paths_csv.to_csv(\"./processed_data/image_paths.csv\", index=False)"
   ],
   "outputs": [],
   "execution_count": 10
  },
  {
   "cell_type": "code",
   "id": "fbb68066931a6592",
   "metadata": {
    "ExecuteTime": {
     "end_time": "2025-04-02T09:19:41.274422Z",
     "start_time": "2025-04-02T09:19:41.271269Z"
    }
   },
   "source": [
    "image_paths_csv.age_bin.value_counts().sort_index()"
   ],
   "outputs": [
    {
     "data": {
      "text/plain": [
       "age_bin\n",
       "0     1572\n",
       "1      712\n",
       "2      459\n",
       "3      453\n",
       "4      641\n",
       "5      875\n",
       "6     1325\n",
       "7      854\n",
       "8      901\n",
       "9      710\n",
       "10     489\n",
       "11     299\n",
       "12     282\n",
       "Name: count, dtype: int64"
      ]
     },
     "execution_count": 11,
     "metadata": {},
     "output_type": "execute_result"
    }
   ],
   "execution_count": 11
  },
  {
   "cell_type": "code",
   "id": "35526a038200877a",
   "metadata": {
    "ExecuteTime": {
     "end_time": "2025-04-02T09:19:41.278158Z",
     "start_time": "2025-04-02T09:19:41.274909Z"
    }
   },
   "source": [
    "paths_train_df, paths_val_df, paths_test_df = split_data(image_paths_csv)"
   ],
   "outputs": [],
   "execution_count": 12
  }
 ],
 "metadata": {
  "kernelspec": {
   "display_name": "Python 3",
   "language": "python",
   "name": "python3"
  },
  "language_info": {
   "codemirror_mode": {
    "name": "ipython",
    "version": 3
   },
   "file_extension": ".py",
   "mimetype": "text/x-python",
   "name": "python",
   "nbconvert_exporter": "python",
   "pygments_lexer": "ipython3",
   "version": "3.11.11"
  }
 },
 "nbformat": 4,
 "nbformat_minor": 5
}
