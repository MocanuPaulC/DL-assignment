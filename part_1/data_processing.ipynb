{
 "cells": [
  {
   "cell_type": "code",
   "execution_count": 1,
   "id": "d9cfac92cb23c89a",
   "metadata": {
    "ExecuteTime": {
     "end_time": "2025-04-02T20:02:09.250722Z",
     "start_time": "2025-04-02T20:02:09.243447Z"
    }
   },
   "outputs": [
    {
     "name": "stderr",
     "output_type": "stream",
     "text": [
      "2025-04-02 20:15:52.657347: I tensorflow/core/util/port.cc:113] oneDNN custom operations are on. You may see slightly different numerical results due to floating-point round-off errors from different computation orders. To turn them off, set the environment variable `TF_ENABLE_ONEDNN_OPTS=0`.\n",
      "2025-04-02 20:15:52.700504: E external/local_xla/xla/stream_executor/cuda/cuda_dnn.cc:9261] Unable to register cuDNN factory: Attempting to register factory for plugin cuDNN when one has already been registered\n",
      "2025-04-02 20:15:52.700584: E external/local_xla/xla/stream_executor/cuda/cuda_fft.cc:607] Unable to register cuFFT factory: Attempting to register factory for plugin cuFFT when one has already been registered\n",
      "2025-04-02 20:15:52.702043: E external/local_xla/xla/stream_executor/cuda/cuda_blas.cc:1515] Unable to register cuBLAS factory: Attempting to register factory for plugin cuBLAS when one has already been registered\n",
      "2025-04-02 20:15:52.709944: I tensorflow/core/platform/cpu_feature_guard.cc:182] This TensorFlow binary is optimized to use available CPU instructions in performance-critical operations.\n",
      "To enable the following instructions: AVX2 AVX512F AVX512_VNNI AVX512_BF16 FMA, in other operations, rebuild TensorFlow with the appropriate compiler flags.\n"
     ]
    }
   ],
   "source": [
    "import sys\n",
    "from pathlib import Path\n",
    "\n",
    "# Add parent directory to sys.path\n",
    "parent_dir = Path(\"..\").resolve()\n",
    "if str(parent_dir) not in sys.path:\n",
    "    sys.path.insert(0, str(parent_dir))\n",
    "\n",
    "# Now import your module\n",
    "import importlib\n",
    "import common_utils\n",
    "importlib.reload(common_utils)\n",
    "\n",
    "# Import specific functions\n",
    "from common_utils import (\n",
    "    get_unique_image_shapes,\n",
    "    get_unique_image_paths,\n",
    "    load_images_from_paths,\n",
    "    build_image_dataframe,\n",
    "    split_data,\n",
    "    bin_ages,\n",
    "    bin_ages_7\n",
    ")\n"
   ]
  },
  {
   "cell_type": "markdown",
   "id": "e1fbae83435ec599",
   "metadata": {},
   "source": [
    "Check the shapes to see what we are working with and know how to handle the imput into the model later on"
   ]
  },
  {
   "cell_type": "code",
   "execution_count": 2,
   "id": "93684586556e42f5",
   "metadata": {
    "ExecuteTime": {
     "end_time": "2025-04-02T19:57:08.458526Z",
     "start_time": "2025-04-02T19:57:08.456904Z"
    }
   },
   "outputs": [],
   "source": [
    "# unique_shapes = get_unique_image_shapes()\n",
    "# for shape in unique_shapes:\n",
    "#     print(shape)\n"
   ]
  },
  {
   "cell_type": "code",
   "execution_count": 3,
   "id": "f199ddc2d744ab48",
   "metadata": {
    "ExecuteTime": {
     "end_time": "2025-04-02T19:57:13.983766Z",
     "start_time": "2025-04-02T19:57:08.509231Z"
    }
   },
   "outputs": [
    {
     "data": {
      "text/plain": [
       "9572"
      ]
     },
     "execution_count": 3,
     "metadata": {},
     "output_type": "execute_result"
    }
   ],
   "source": [
    "paths=get_unique_image_paths()\n",
    "len(paths)"
   ]
  },
  {
   "cell_type": "code",
   "execution_count": 4,
   "id": "be4fbedbe14c7d35",
   "metadata": {
    "ExecuteTime": {
     "end_time": "2025-04-02T19:57:13.993910Z",
     "start_time": "2025-04-02T19:57:13.984641Z"
    }
   },
   "outputs": [],
   "source": [
    "image_paths_csv=build_image_dataframe(paths)"
   ]
  },
  {
   "cell_type": "code",
   "execution_count": 5,
   "id": "dafc5803",
   "metadata": {
    "ExecuteTime": {
     "end_time": "2025-04-02T19:57:13.999793Z",
     "start_time": "2025-04-02T19:57:13.994390Z"
    }
   },
   "outputs": [
    {
     "data": {
      "text/html": [
       "<div>\n",
       "<style scoped>\n",
       "    .dataframe tbody tr th:only-of-type {\n",
       "        vertical-align: middle;\n",
       "    }\n",
       "\n",
       "    .dataframe tbody tr th {\n",
       "        vertical-align: top;\n",
       "    }\n",
       "\n",
       "    .dataframe thead th {\n",
       "        text-align: right;\n",
       "    }\n",
       "</style>\n",
       "<table border=\"1\" class=\"dataframe\">\n",
       "  <thead>\n",
       "    <tr style=\"text-align: right;\">\n",
       "      <th></th>\n",
       "      <th>path</th>\n",
       "      <th>age</th>\n",
       "    </tr>\n",
       "  </thead>\n",
       "  <tbody>\n",
       "    <tr>\n",
       "      <th>0</th>\n",
       "      <td>../raw_data2/face_age/001/1000.png</td>\n",
       "      <td>1</td>\n",
       "    </tr>\n",
       "    <tr>\n",
       "      <th>1</th>\n",
       "      <td>../raw_data2/face_age/001/1018.png</td>\n",
       "      <td>1</td>\n",
       "    </tr>\n",
       "    <tr>\n",
       "      <th>2</th>\n",
       "      <td>../raw_data2/face_age/001/1030.png</td>\n",
       "      <td>1</td>\n",
       "    </tr>\n",
       "    <tr>\n",
       "      <th>3</th>\n",
       "      <td>../raw_data2/face_age/001/1062.png</td>\n",
       "      <td>1</td>\n",
       "    </tr>\n",
       "    <tr>\n",
       "      <th>4</th>\n",
       "      <td>../raw_data2/face_age/001/1068.png</td>\n",
       "      <td>1</td>\n",
       "    </tr>\n",
       "  </tbody>\n",
       "</table>\n",
       "</div>"
      ],
      "text/plain": [
       "                                 path  age\n",
       "0  ../raw_data2/face_age/001/1000.png    1\n",
       "1  ../raw_data2/face_age/001/1018.png    1\n",
       "2  ../raw_data2/face_age/001/1030.png    1\n",
       "3  ../raw_data2/face_age/001/1062.png    1\n",
       "4  ../raw_data2/face_age/001/1068.png    1"
      ]
     },
     "execution_count": 5,
     "metadata": {},
     "output_type": "execute_result"
    }
   ],
   "source": [
    "image_paths_csv.head(5)"
   ]
  },
  {
   "cell_type": "markdown",
   "id": "26dae627a598a12c",
   "metadata": {},
   "source": []
  },
  {
   "cell_type": "code",
   "execution_count": null,
   "id": "f2f1c0bf4d6e5229",
   "metadata": {},
   "outputs": [],
   "source": []
  },
  {
   "cell_type": "code",
   "execution_count": 6,
   "id": "2437fdfa9ecfc5a6",
   "metadata": {
    "ExecuteTime": {
     "end_time": "2025-04-02T19:58:24.461163Z",
     "start_time": "2025-04-02T19:58:24.458087Z"
    }
   },
   "outputs": [
    {
     "data": {
      "text/plain": [
       "age\n",
       "1      1101\n",
       "2       471\n",
       "3       280\n",
       "4       257\n",
       "5       175\n",
       "       ... \n",
       "96       14\n",
       "99        2\n",
       "100       2\n",
       "101       1\n",
       "110       2\n",
       "Name: count, Length: 99, dtype: int64"
      ]
     },
     "execution_count": 6,
     "metadata": {},
     "output_type": "execute_result"
    }
   ],
   "source": [
    "image_paths_csv.age.value_counts().sort_index()"
   ]
  },
  {
   "cell_type": "code",
   "execution_count": 7,
   "id": "8a71b8ab84ca8dea",
   "metadata": {
    "ExecuteTime": {
     "end_time": "2025-04-02T19:57:14.200231Z",
     "start_time": "2025-04-02T19:57:14.000717Z"
    }
   },
   "outputs": [
    {
     "data": {
      "text/plain": [
       "<Axes: xlabel='age'>"
      ]
     },
     "execution_count": 7,
     "metadata": {},
     "output_type": "execute_result"
    },
    {
     "data": {
      "image/png": "[encoded data removed]",
      "text/plain": [
       "<Figure size 640x480 with 1 Axes>"
      ]
     },
     "metadata": {},
     "output_type": "display_data"
    }
   ],
   "source": [
    "image_paths_csv.age.value_counts().sort_index().plot(kind='bar')"
   ]
  },
  {
   "cell_type": "code",
   "execution_count": 8,
   "id": "4d4f7d2c2ea0c0ce",
   "metadata": {
    "ExecuteTime": {
     "end_time": "2025-04-02T20:02:23.047752Z",
     "start_time": "2025-04-02T20:02:22.459991Z"
    }
   },
   "outputs": [],
   "source": [
    "image_paths_csv=bin_ages(image_paths_csv)\n",
    "image_paths_csv_7_classes=bin_ages_7(image_paths_csv)"
   ]
  },
  {
   "cell_type": "code",
   "execution_count": 9,
   "id": "87492ac1fb7f2f1e",
   "metadata": {
    "ExecuteTime": {
     "end_time": "2025-04-02T20:02:25.477362Z",
     "start_time": "2025-04-02T20:02:25.413947Z"
    }
   },
   "outputs": [
    {
     "data": {
      "text/plain": [
       "<Axes: xlabel='age_bin_label'>"
      ]
     },
     "execution_count": 9,
     "metadata": {},
     "output_type": "execute_result"
    },
    {
     "data": {
      "image/png": "[encoded data removed]",
      "text/plain": [
       "<Figure size 640x480 with 1 Axes>"
      ]
     },
     "metadata": {},
     "output_type": "display_data"
    }
   ],
   "source": [
    "image_paths_csv_7_classes.age_bin_label.value_counts().sort_index().plot(kind='bar')"
   ]
  },
  {
   "cell_type": "code",
   "execution_count": null,
   "id": "7a194ce63bbafb04",
   "metadata": {
    "ExecuteTime": {
     "end_time": "2025-04-02T19:58:00.928658Z",
     "start_time": "2025-04-02T19:58:00.846589Z"
    }
   },
   "outputs": [
    {
     "data": {
      "text/plain": [
       "<Axes: xlabel='age_bin_label'>"
      ]
     },
     "execution_count": 10,
     "metadata": {},
     "output_type": "execute_result"
    },
    {
     "data": {
      "image/png": "[encoded data removed]",
      "text/plain": [
       "<Figure size 640x480 with 1 Axes>"
      ]
     },
     "metadata": {},
     "output_type": "display_data"
    }
   ],
   "source": [
    "image_paths_csv.age_bin_label.value_counts().sort_index().plot(kind='bar')"
   ]
  },
  {
   "cell_type": "code",
   "execution_count": 11,
   "id": "16c3a9dbe4822ddd",
   "metadata": {
    "ExecuteTime": {
     "end_time": "2025-04-02T09:19:41.255158Z",
     "start_time": "2025-04-02T09:19:41.252262Z"
    }
   },
   "outputs": [
    {
     "data": {
      "text/html": [
       "<div>\n",
       "<style scoped>\n",
       "    .dataframe tbody tr th:only-of-type {\n",
       "        vertical-align: middle;\n",
       "    }\n",
       "\n",
       "    .dataframe tbody tr th {\n",
       "        vertical-align: top;\n",
       "    }\n",
       "\n",
       "    .dataframe thead th {\n",
       "        text-align: right;\n",
       "    }\n",
       "</style>\n",
       "<table border=\"1\" class=\"dataframe\">\n",
       "  <thead>\n",
       "    <tr style=\"text-align: right;\">\n",
       "      <th></th>\n",
       "      <th>path</th>\n",
       "      <th>age</th>\n",
       "      <th>age_bin</th>\n",
       "      <th>age_bin_label</th>\n",
       "    </tr>\n",
       "  </thead>\n",
       "  <tbody>\n",
       "    <tr>\n",
       "      <th>0</th>\n",
       "      <td>../raw_data2/face_age/001/1000.png</td>\n",
       "      <td>1</td>\n",
       "      <td>0</td>\n",
       "      <td>Infant/Toddler (1–4)</td>\n",
       "    </tr>\n",
       "    <tr>\n",
       "      <th>1</th>\n",
       "      <td>../raw_data2/face_age/001/1018.png</td>\n",
       "      <td>1</td>\n",
       "      <td>0</td>\n",
       "      <td>Infant/Toddler (1–4)</td>\n",
       "    </tr>\n",
       "    <tr>\n",
       "      <th>2</th>\n",
       "      <td>../raw_data2/face_age/001/1030.png</td>\n",
       "      <td>1</td>\n",
       "      <td>0</td>\n",
       "      <td>Infant/Toddler (1–4)</td>\n",
       "    </tr>\n",
       "    <tr>\n",
       "      <th>3</th>\n",
       "      <td>../raw_data2/face_age/001/1062.png</td>\n",
       "      <td>1</td>\n",
       "      <td>0</td>\n",
       "      <td>Infant/Toddler (1–4)</td>\n",
       "    </tr>\n",
       "    <tr>\n",
       "      <th>4</th>\n",
       "      <td>../raw_data2/face_age/001/1068.png</td>\n",
       "      <td>1</td>\n",
       "      <td>0</td>\n",
       "      <td>Infant/Toddler (1–4)</td>\n",
       "    </tr>\n",
       "  </tbody>\n",
       "</table>\n",
       "</div>"
      ],
      "text/plain": [
       "                                 path  age age_bin         age_bin_label\n",
       "0  ../raw_data2/face_age/001/1000.png    1       0  Infant/Toddler (1–4)\n",
       "1  ../raw_data2/face_age/001/1018.png    1       0  Infant/Toddler (1–4)\n",
       "2  ../raw_data2/face_age/001/1030.png    1       0  Infant/Toddler (1–4)\n",
       "3  ../raw_data2/face_age/001/1062.png    1       0  Infant/Toddler (1–4)\n",
       "4  ../raw_data2/face_age/001/1068.png    1       0  Infant/Toddler (1–4)"
      ]
     },
     "execution_count": 11,
     "metadata": {},
     "output_type": "execute_result"
    }
   ],
   "source": [
    "image_paths_csv.head()"
   ]
  },
  {
   "cell_type": "code",
   "execution_count": 12,
   "id": "219604bfba6ef99a",
   "metadata": {
    "ExecuteTime": {
     "end_time": "2025-04-02T09:19:41.257878Z",
     "start_time": "2025-04-02T09:19:41.255691Z"
    }
   },
   "outputs": [
    {
     "data": {
      "text/plain": [
       "0       ../raw_data2/face_age/001/1000.png\n",
       "1       ../raw_data2/face_age/001/1018.png\n",
       "2       ../raw_data2/face_age/001/1030.png\n",
       "3       ../raw_data2/face_age/001/1062.png\n",
       "4       ../raw_data2/face_age/001/1068.png\n",
       "                       ...                \n",
       "9567    ../raw_data2/face_age/100/2694.png\n",
       "9568    ../raw_data2/face_age/100/6408.png\n",
       "9569    ../raw_data2/face_age/101/1554.png\n",
       "9570    ../raw_data2/face_age/110/3906.png\n",
       "9571    ../raw_data2/face_age/110/9628.png\n",
       "Name: path, Length: 9572, dtype: object"
      ]
     },
     "execution_count": 12,
     "metadata": {},
     "output_type": "execute_result"
    }
   ],
   "source": [
    "image_paths_csv.path"
   ]
  },
  {
   "cell_type": "code",
   "execution_count": 13,
   "id": "5227d58c6878e919",
   "metadata": {
    "ExecuteTime": {
     "end_time": "2025-04-02T20:03:20.920319Z",
     "start_time": "2025-04-02T20:03:20.878383Z"
    }
   },
   "outputs": [],
   "source": [
    "import os\n",
    "os.makedirs(\"./processed_data\",exist_ok=True)\n",
    "\n",
    "image_paths_csv.to_csv(\"./processed_data/image_paths.csv\", index=False)\n",
    "image_paths_csv_7_classes.to_csv(\"./processed_data/image_paths_7_classes.csv\", index=False)"
   ]
  },
  {
   "cell_type": "code",
   "execution_count": 14,
   "id": "fbb68066931a6592",
   "metadata": {
    "ExecuteTime": {
     "end_time": "2025-04-02T09:19:41.274422Z",
     "start_time": "2025-04-02T09:19:41.271269Z"
    }
   },
   "outputs": [
    {
     "data": {
      "text/plain": [
       "age_bin\n",
       "0    2109\n",
       "1    1087\n",
       "2     879\n",
       "3    1962\n",
       "4    1755\n",
       "5    1199\n",
       "6     581\n",
       "Name: count, dtype: int64"
      ]
     },
     "execution_count": 14,
     "metadata": {},
     "output_type": "execute_result"
    }
   ],
   "source": [
    "image_paths_csv.age_bin.value_counts().sort_index()"
   ]
  },
  {
   "cell_type": "code",
   "execution_count": 15,
   "id": "35526a038200877a",
   "metadata": {
    "ExecuteTime": {
     "end_time": "2025-04-02T09:19:41.278158Z",
     "start_time": "2025-04-02T09:19:41.274909Z"
    }
   },
   "outputs": [],
   "source": [
    "paths_train_df, paths_val_df, paths_test_df = split_data(image_paths_csv)"
   ]
  }
 ],
 "metadata": {
  "kernelspec": {
   "display_name": "Python 3",
   "language": "python",
   "name": "python3"
  },
  "language_info": {
   "codemirror_mode": {
    "name": "ipython",
    "version": 3
   },
   "file_extension": ".py",
   "mimetype": "text/x-python",
   "name": "python",
   "nbconvert_exporter": "python",
   "pygments_lexer": "ipython3",
   "version": "3.11.11"
  }
 },
 "nbformat": 4,
 "nbformat_minor": 5
}
