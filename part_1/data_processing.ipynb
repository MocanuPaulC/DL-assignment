{
 "cells": [
  {
   "cell_type": "code",
   "execution_count": 1,
   "id": "d9cfac92cb23c89a",
   "metadata": {
    "ExecuteTime": {
     "end_time": "2025-04-02T23:00:51.510563Z",
     "start_time": "2025-04-02T23:00:51.504059Z"
    }
   },
   "outputs": [
    {
     "name": "stderr",
     "output_type": "stream",
     "text": [
      "2025-04-03 11:06:16.948987: I tensorflow/core/util/port.cc:113] oneDNN custom operations are on. You may see slightly different numerical results due to floating-point round-off errors from different computation orders. To turn them off, set the environment variable `TF_ENABLE_ONEDNN_OPTS=0`.\n",
      "2025-04-03 11:06:16.989170: E external/local_xla/xla/stream_executor/cuda/cuda_dnn.cc:9261] Unable to register cuDNN factory: Attempting to register factory for plugin cuDNN when one has already been registered\n",
      "2025-04-03 11:06:16.989247: E external/local_xla/xla/stream_executor/cuda/cuda_fft.cc:607] Unable to register cuFFT factory: Attempting to register factory for plugin cuFFT when one has already been registered\n",
      "2025-04-03 11:06:16.990947: E external/local_xla/xla/stream_executor/cuda/cuda_blas.cc:1515] Unable to register cuBLAS factory: Attempting to register factory for plugin cuBLAS when one has already been registered\n",
      "2025-04-03 11:06:16.998826: I tensorflow/core/platform/cpu_feature_guard.cc:182] This TensorFlow binary is optimized to use available CPU instructions in performance-critical operations.\n",
      "To enable the following instructions: AVX2 AVX512F AVX512_VNNI AVX512_BF16 FMA, in other operations, rebuild TensorFlow with the appropriate compiler flags.\n"
     ]
    }
   ],
   "source": [
    "import sys\n",
    "from pathlib import Path\n",
    "import os\n",
    "import pandas as pd\n",
    "from PIL import Image\n",
    "# Add parent directory to sys.path\n",
    "parent_dir = Path(\"..\").resolve()\n",
    "if str(parent_dir) not in sys.path:\n",
    "    sys.path.insert(0, str(parent_dir))\n",
    "\n",
    "# Now import your module\n",
    "import importlib\n",
    "import common_utils\n",
    "importlib.reload(common_utils)\n",
    "\n",
    "# Import specific functions\n",
    "from common_utils import (\n",
    "    get_unique_image_shapes,\n",
    "    get_unique_image_paths,\n",
    "    build_image_dataframe,\n",
    "    split_data,\n",
    "    bin_ages,\n",
    "    bin_ages_7,\n",
    "    augment_images\n",
    ")\n"
   ]
  },
  {
   "cell_type": "markdown",
   "id": "e1fbae83435ec599",
   "metadata": {},
   "source": [
    "Check the shapes to see what we are working with and know how to handle the imput into the model later on"
   ]
  },
  {
   "cell_type": "code",
   "execution_count": 2,
   "id": "93684586556e42f5",
   "metadata": {
    "ExecuteTime": {
     "end_time": "2025-04-02T19:57:08.458526Z",
     "start_time": "2025-04-02T19:57:08.456904Z"
    }
   },
   "outputs": [],
   "source": [
    "# unique_shapes = get_unique_image_shapes()\n",
    "# for shape in unique_shapes:\n",
    "#     print(shape)\n"
   ]
  },
  {
   "cell_type": "code",
   "execution_count": 3,
   "id": "f199ddc2d744ab48",
   "metadata": {
    "ExecuteTime": {
     "end_time": "2025-04-02T23:00:46.098350Z",
     "start_time": "2025-04-02T23:00:40.675168Z"
    }
   },
   "outputs": [
    {
     "data": {
      "text/plain": [
       "9572"
      ]
     },
     "execution_count": 3,
     "metadata": {},
     "output_type": "execute_result"
    }
   ],
   "source": [
    "paths=get_unique_image_paths()\n",
    "len(paths)"
   ]
  },
  {
   "cell_type": "code",
   "execution_count": 4,
   "id": "ea3522651591e283",
   "metadata": {
    "ExecuteTime": {
     "end_time": "2025-04-02T23:05:23.692863Z",
     "start_time": "2025-04-02T23:01:01.093918Z"
    }
   },
   "outputs": [
    {
     "data": {
      "text/plain": [
       "9572"
      ]
     },
     "execution_count": 4,
     "metadata": {},
     "output_type": "execute_result"
    }
   ],
   "source": [
    "aug_paths=augment_images(paths)\n",
    "len(paths)"
   ]
  },
  {
   "cell_type": "code",
   "execution_count": 5,
   "id": "be4fbedbe14c7d35",
   "metadata": {
    "ExecuteTime": {
     "end_time": "2025-04-02T23:05:38.949095Z",
     "start_time": "2025-04-02T23:05:38.878394Z"
    }
   },
   "outputs": [],
   "source": [
    "image_paths_csv=build_image_dataframe(paths)\n",
    "image_paths_csv_aug=build_image_dataframe(aug_paths)"
   ]
  },
  {
   "cell_type": "code",
   "execution_count": 6,
   "id": "dafc5803",
   "metadata": {
    "ExecuteTime": {
     "end_time": "2025-04-02T19:57:13.999793Z",
     "start_time": "2025-04-02T19:57:13.994390Z"
    }
   },
   "outputs": [
    {
     "data": {
      "text/html": [
       "<div>\n",
       "<style scoped>\n",
       "    .dataframe tbody tr th:only-of-type {\n",
       "        vertical-align: middle;\n",
       "    }\n",
       "\n",
       "    .dataframe tbody tr th {\n",
       "        vertical-align: top;\n",
       "    }\n",
       "\n",
       "    .dataframe thead th {\n",
       "        text-align: right;\n",
       "    }\n",
       "</style>\n",
       "<table border=\"1\" class=\"dataframe\">\n",
       "  <thead>\n",
       "    <tr style=\"text-align: right;\">\n",
       "      <th></th>\n",
       "      <th>path</th>\n",
       "      <th>age</th>\n",
       "    </tr>\n",
       "  </thead>\n",
       "  <tbody>\n",
       "    <tr>\n",
       "      <th>0</th>\n",
       "      <td>../raw_data2/face_age/001/1000.png</td>\n",
       "      <td>1</td>\n",
       "    </tr>\n",
       "    <tr>\n",
       "      <th>1</th>\n",
       "      <td>../raw_data2/face_age/001/1018.png</td>\n",
       "      <td>1</td>\n",
       "    </tr>\n",
       "    <tr>\n",
       "      <th>2</th>\n",
       "      <td>../raw_data2/face_age/001/1030.png</td>\n",
       "      <td>1</td>\n",
       "    </tr>\n",
       "    <tr>\n",
       "      <th>3</th>\n",
       "      <td>../raw_data2/face_age/001/1062.png</td>\n",
       "      <td>1</td>\n",
       "    </tr>\n",
       "    <tr>\n",
       "      <th>4</th>\n",
       "      <td>../raw_data2/face_age/001/1068.png</td>\n",
       "      <td>1</td>\n",
       "    </tr>\n",
       "  </tbody>\n",
       "</table>\n",
       "</div>"
      ],
      "text/plain": [
       "                                 path  age\n",
       "0  ../raw_data2/face_age/001/1000.png    1\n",
       "1  ../raw_data2/face_age/001/1018.png    1\n",
       "2  ../raw_data2/face_age/001/1030.png    1\n",
       "3  ../raw_data2/face_age/001/1062.png    1\n",
       "4  ../raw_data2/face_age/001/1068.png    1"
      ]
     },
     "execution_count": 6,
     "metadata": {},
     "output_type": "execute_result"
    }
   ],
   "source": [
    "image_paths_csv.head(5)"
   ]
  },
  {
   "cell_type": "markdown",
   "id": "26dae627a598a12c",
   "metadata": {},
   "source": []
  },
  {
   "cell_type": "code",
   "execution_count": 7,
   "id": "8a71b8ab84ca8dea",
   "metadata": {
    "ExecuteTime": {
     "end_time": "2025-04-02T23:05:42.533647Z",
     "start_time": "2025-04-02T23:05:42.348482Z"
    }
   },
   "outputs": [
    {
     "data": {
      "text/plain": [
       "<Axes: xlabel='age'>"
      ]
     },
     "execution_count": 7,
     "metadata": {},
     "output_type": "execute_result"
    },
    {
     "data": {
      "image/png": "[encoded data removed]",
      "text/plain": [
       "<Figure size 640x480 with 1 Axes>"
      ]
     },
     "metadata": {},
     "output_type": "display_data"
    }
   ],
   "source": [
    "image_paths_csv.age.value_counts().sort_index().plot(kind='bar')"
   ]
  },
  {
   "cell_type": "code",
   "execution_count": 8,
   "id": "4d4f7d2c2ea0c0ce",
   "metadata": {
    "ExecuteTime": {
     "end_time": "2025-04-02T23:05:56.285131Z",
     "start_time": "2025-04-02T23:05:51.882712Z"
    }
   },
   "outputs": [],
   "source": [
    "image_paths_csv=bin_ages(image_paths_csv)\n",
    "image_paths_csv_7_classes=bin_ages_7(image_paths_csv)\n",
    "image_paths_csv_aug=bin_ages(image_paths_csv_aug)\n",
    "image_paths_csv_7_classes_aug=bin_ages_7(image_paths_csv_aug)"
   ]
  },
  {
   "cell_type": "code",
   "execution_count": 9,
   "id": "87492ac1fb7f2f1e",
   "metadata": {
    "ExecuteTime": {
     "end_time": "2025-04-02T23:05:58.809014Z",
     "start_time": "2025-04-02T23:05:58.751017Z"
    }
   },
   "outputs": [
    {
     "data": {
      "text/plain": [
       "<Axes: xlabel='age_bin'>"
      ]
     },
     "execution_count": 9,
     "metadata": {},
     "output_type": "execute_result"
    },
    {
     "data": {
      "image/png": "[encoded data removed]",
      "text/plain": [
       "<Figure size 640x480 with 1 Axes>"
      ]
     },
     "metadata": {},
     "output_type": "display_data"
    }
   ],
   "source": [
    "image_paths_csv_7_classes.age_bin.value_counts().sort_index().plot(kind='bar')"
   ]
  },
  {
   "cell_type": "code",
   "execution_count": 10,
   "id": "16c3a9dbe4822ddd",
   "metadata": {
    "ExecuteTime": {
     "end_time": "2025-04-02T09:19:41.255158Z",
     "start_time": "2025-04-02T09:19:41.252262Z"
    }
   },
   "outputs": [
    {
     "data": {
      "text/html": [
       "<div>\n",
       "<style scoped>\n",
       "    .dataframe tbody tr th:only-of-type {\n",
       "        vertical-align: middle;\n",
       "    }\n",
       "\n",
       "    .dataframe tbody tr th {\n",
       "        vertical-align: top;\n",
       "    }\n",
       "\n",
       "    .dataframe thead th {\n",
       "        text-align: right;\n",
       "    }\n",
       "</style>\n",
       "<table border=\"1\" class=\"dataframe\">\n",
       "  <thead>\n",
       "    <tr style=\"text-align: right;\">\n",
       "      <th></th>\n",
       "      <th>path</th>\n",
       "      <th>age</th>\n",
       "      <th>age_bin</th>\n",
       "      <th>age_bin_label</th>\n",
       "    </tr>\n",
       "  </thead>\n",
       "  <tbody>\n",
       "    <tr>\n",
       "      <th>0</th>\n",
       "      <td>../raw_data2/face_age/001/1000.png</td>\n",
       "      <td>1</td>\n",
       "      <td>0</td>\n",
       "      <td>Infant/Toddler (1–4)</td>\n",
       "    </tr>\n",
       "    <tr>\n",
       "      <th>1</th>\n",
       "      <td>../raw_data2/face_age/001/1018.png</td>\n",
       "      <td>1</td>\n",
       "      <td>0</td>\n",
       "      <td>Infant/Toddler (1–4)</td>\n",
       "    </tr>\n",
       "    <tr>\n",
       "      <th>2</th>\n",
       "      <td>../raw_data2/face_age/001/1030.png</td>\n",
       "      <td>1</td>\n",
       "      <td>0</td>\n",
       "      <td>Infant/Toddler (1–4)</td>\n",
       "    </tr>\n",
       "    <tr>\n",
       "      <th>3</th>\n",
       "      <td>../raw_data2/face_age/001/1062.png</td>\n",
       "      <td>1</td>\n",
       "      <td>0</td>\n",
       "      <td>Infant/Toddler (1–4)</td>\n",
       "    </tr>\n",
       "    <tr>\n",
       "      <th>4</th>\n",
       "      <td>../raw_data2/face_age/001/1068.png</td>\n",
       "      <td>1</td>\n",
       "      <td>0</td>\n",
       "      <td>Infant/Toddler (1–4)</td>\n",
       "    </tr>\n",
       "  </tbody>\n",
       "</table>\n",
       "</div>"
      ],
      "text/plain": [
       "                                 path  age age_bin         age_bin_label\n",
       "0  ../raw_data2/face_age/001/1000.png    1       0  Infant/Toddler (1–4)\n",
       "1  ../raw_data2/face_age/001/1018.png    1       0  Infant/Toddler (1–4)\n",
       "2  ../raw_data2/face_age/001/1030.png    1       0  Infant/Toddler (1–4)\n",
       "3  ../raw_data2/face_age/001/1062.png    1       0  Infant/Toddler (1–4)\n",
       "4  ../raw_data2/face_age/001/1068.png    1       0  Infant/Toddler (1–4)"
      ]
     },
     "execution_count": 10,
     "metadata": {},
     "output_type": "execute_result"
    }
   ],
   "source": [
    "image_paths_csv.head()"
   ]
  },
  {
   "cell_type": "code",
   "execution_count": 11,
   "id": "5227d58c6878e919",
   "metadata": {
    "ExecuteTime": {
     "end_time": "2025-04-02T23:06:19.774188Z",
     "start_time": "2025-04-02T23:06:19.583414Z"
    }
   },
   "outputs": [],
   "source": [
    "import os\n",
    "os.makedirs(\"./processed_data\",exist_ok=True)\n",
    "\n",
    "image_paths_csv.to_csv(\"./processed_data/image_paths.csv\", index=False)\n",
    "image_paths_csv_7_classes.to_csv(\"./processed_data/image_paths_7_classes.csv\", index=False)\n",
    "\n",
    "image_paths_csv_aug.to_csv(\"./processed_data/image_paths_aug.csv\", index=False)\n",
    "image_paths_csv_7_classes_aug.to_csv(\"./processed_data/image_paths_7_classes_aug.csv\", index=False)"
   ]
  },
  {
   "cell_type": "code",
   "execution_count": 12,
   "id": "fbb68066931a6592",
   "metadata": {
    "ExecuteTime": {
     "end_time": "2025-04-02T09:19:41.274422Z",
     "start_time": "2025-04-02T09:19:41.271269Z"
    }
   },
   "outputs": [
    {
     "data": {
      "text/plain": [
       "age_bin\n",
       "0    2109\n",
       "1    1087\n",
       "2     879\n",
       "3    1962\n",
       "4    1755\n",
       "5    1199\n",
       "6     581\n",
       "Name: count, dtype: int64"
      ]
     },
     "execution_count": 12,
     "metadata": {},
     "output_type": "execute_result"
    }
   ],
   "source": [
    "image_paths_csv.age_bin.value_counts().sort_index()"
   ]
  },
  {
   "cell_type": "code",
   "execution_count": 13,
   "id": "35526a038200877a",
   "metadata": {
    "ExecuteTime": {
     "end_time": "2025-04-02T09:19:41.278158Z",
     "start_time": "2025-04-02T09:19:41.274909Z"
    }
   },
   "outputs": [],
   "source": [
    "paths_train_df, paths_val_df, paths_test_df = split_data(image_paths_csv)"
   ]
  }
 ],
 "metadata": {
  "kernelspec": {
   "display_name": "Python 3",
   "language": "python",
   "name": "python3"
  },
  "language_info": {
   "codemirror_mode": {
    "name": "ipython",
    "version": 3
   },
   "file_extension": ".py",
   "mimetype": "text/x-python",
   "name": "python",
   "nbconvert_exporter": "python",
   "pygments_lexer": "ipython3",
   "version": "3.11.11"
  }
 },
 "nbformat": 4,
 "nbformat_minor": 5
}
