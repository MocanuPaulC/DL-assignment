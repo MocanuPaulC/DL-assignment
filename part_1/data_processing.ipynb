{
 "cells": [
  {
   "cell_type": "code",
   "execution_count": 1,
   "id": "d9cfac92cb23c89a",
   "metadata": {
    "ExecuteTime": {
     "end_time": "2025-03-31T23:44:50.434264Z",
     "start_time": "2025-03-31T23:44:50.336379Z"
    }
   },
   "outputs": [
    {
     "name": "stderr",
     "output_type": "stream",
     "text": [
      "2025-04-01 19:47:12.521277: E external/local_xla/xla/stream_executor/cuda/cuda_fft.cc:467] Unable to register cuFFT factory: Attempting to register factory for plugin cuFFT when one has already been registered\n",
      "WARNING: All log messages before absl::InitializeLog() is called are written to STDERR\n",
      "E0000 00:00:1743536832.538420    1970 cuda_dnn.cc:8579] Unable to register cuDNN factory: Attempting to register factory for plugin cuDNN when one has already been registered\n",
      "E0000 00:00:1743536832.543845    1970 cuda_blas.cc:1407] Unable to register cuBLAS factory: Attempting to register factory for plugin cuBLAS when one has already been registered\n",
      "W0000 00:00:1743536832.557563    1970 computation_placer.cc:177] computation placer already registered. Please check linkage and avoid linking the same target more than once.\n",
      "W0000 00:00:1743536832.557581    1970 computation_placer.cc:177] computation placer already registered. Please check linkage and avoid linking the same target more than once.\n",
      "W0000 00:00:1743536832.557583    1970 computation_placer.cc:177] computation placer already registered. Please check linkage and avoid linking the same target more than once.\n",
      "W0000 00:00:1743536832.557585    1970 computation_placer.cc:177] computation placer already registered. Please check linkage and avoid linking the same target more than once.\n",
      "2025-04-01 19:47:12.562168: I tensorflow/core/platform/cpu_feature_guard.cc:210] This TensorFlow binary is optimized to use available CPU instructions in performance-critical operations.\n",
      "To enable the following instructions: AVX2 FMA, in other operations, rebuild TensorFlow with the appropriate compiler flags.\n"
     ]
    }
   ],
   "source": [
    "import sys\n",
    "from pathlib import Path\n",
    "\n",
    "# Add parent directory to sys.path\n",
    "parent_dir = Path(\"..\").resolve()\n",
    "if str(parent_dir) not in sys.path:\n",
    "    sys.path.insert(0, str(parent_dir))\n",
    "\n",
    "# Now import your module\n",
    "import importlib\n",
    "import common_utils\n",
    "importlib.reload(common_utils)\n",
    "\n",
    "# Import specific functions\n",
    "from common_utils import (\n",
    "    get_unique_image_shapes,\n",
    "    get_unique_image_paths,\n",
    "    load_images_from_paths,\n",
    "    build_image_dataframe,\n",
    "    split_data,\n",
    "    bin_ages\n",
    ")\n"
   ]
  },
  {
   "cell_type": "markdown",
   "id": "e1fbae83435ec599",
   "metadata": {},
   "source": [
    "Check the shapes to see what we are working with and know how to handle the imput into the model later on"
   ]
  },
  {
   "cell_type": "code",
   "execution_count": 2,
   "id": "93684586556e42f5",
   "metadata": {
    "ExecuteTime": {
     "end_time": "2025-03-31T23:44:59.207607Z",
     "start_time": "2025-03-31T23:44:50.440807Z"
    }
   },
   "outputs": [],
   "source": [
    "# unique_shapes = get_unique_image_shapes()\n",
    "# for shape in unique_shapes:\n",
    "#     print(shape)\n"
   ]
  },
  {
   "cell_type": "code",
   "execution_count": 3,
   "id": "f199ddc2d744ab48",
   "metadata": {
    "ExecuteTime": {
     "end_time": "2025-03-31T23:45:23.552147Z",
     "start_time": "2025-03-31T23:45:21.937458Z"
    }
   },
   "outputs": [
    {
     "data": {
      "text/plain": [
       "9572"
      ]
     },
     "execution_count": 3,
     "metadata": {},
     "output_type": "execute_result"
    }
   ],
   "source": [
    "paths=get_unique_image_paths()\n",
    "len(paths)"
   ]
  },
  {
   "cell_type": "code",
   "execution_count": 4,
   "id": "be4fbedbe14c7d35",
   "metadata": {
    "ExecuteTime": {
     "end_time": "2025-03-31T23:45:23.582838Z",
     "start_time": "2025-03-31T23:45:23.572142Z"
    }
   },
   "outputs": [],
   "source": [
    "image_paths_csv=build_image_dataframe(paths)"
   ]
  },
  {
   "cell_type": "code",
   "execution_count": 5,
   "id": "dafc5803",
   "metadata": {},
   "outputs": [
    {
     "data": {
      "text/html": [
       "<div>\n",
       "<style scoped>\n",
       "    .dataframe tbody tr th:only-of-type {\n",
       "        vertical-align: middle;\n",
       "    }\n",
       "\n",
       "    .dataframe tbody tr th {\n",
       "        vertical-align: top;\n",
       "    }\n",
       "\n",
       "    .dataframe thead th {\n",
       "        text-align: right;\n",
       "    }\n",
       "</style>\n",
       "<table border=\"1\" class=\"dataframe\">\n",
       "  <thead>\n",
       "    <tr style=\"text-align: right;\">\n",
       "      <th></th>\n",
       "      <th>path</th>\n",
       "      <th>age</th>\n",
       "    </tr>\n",
       "  </thead>\n",
       "  <tbody>\n",
       "    <tr>\n",
       "      <th>0</th>\n",
       "      <td>../raw_data2/face_age/001/1000.png</td>\n",
       "      <td>1</td>\n",
       "    </tr>\n",
       "    <tr>\n",
       "      <th>1</th>\n",
       "      <td>../raw_data2/face_age/001/1018.png</td>\n",
       "      <td>1</td>\n",
       "    </tr>\n",
       "    <tr>\n",
       "      <th>2</th>\n",
       "      <td>../raw_data2/face_age/001/1030.png</td>\n",
       "      <td>1</td>\n",
       "    </tr>\n",
       "    <tr>\n",
       "      <th>3</th>\n",
       "      <td>../raw_data2/face_age/001/1062.png</td>\n",
       "      <td>1</td>\n",
       "    </tr>\n",
       "    <tr>\n",
       "      <th>4</th>\n",
       "      <td>../raw_data2/face_age/001/1068.png</td>\n",
       "      <td>1</td>\n",
       "    </tr>\n",
       "  </tbody>\n",
       "</table>\n",
       "</div>"
      ],
      "text/plain": [
       "                                 path  age\n",
       "0  ../raw_data2/face_age/001/1000.png    1\n",
       "1  ../raw_data2/face_age/001/1018.png    1\n",
       "2  ../raw_data2/face_age/001/1030.png    1\n",
       "3  ../raw_data2/face_age/001/1062.png    1\n",
       "4  ../raw_data2/face_age/001/1068.png    1"
      ]
     },
     "execution_count": 5,
     "metadata": {},
     "output_type": "execute_result"
    }
   ],
   "source": [
    "image_paths_csv.head(5)"
   ]
  },
  {
   "cell_type": "code",
   "execution_count": 6,
   "id": "8a71b8ab84ca8dea",
   "metadata": {
    "ExecuteTime": {
     "end_time": "2025-03-31T23:45:24.006414Z",
     "start_time": "2025-03-31T23:45:23.631331Z"
    }
   },
   "outputs": [],
   "source": [
    "# image_paths_csv.age.value_counts().sort_index().plot(kind='bar')"
   ]
  },
  {
   "cell_type": "code",
   "execution_count": 7,
   "id": "4d4f7d2c2ea0c0ce",
   "metadata": {
    "ExecuteTime": {
     "end_time": "2025-03-31T23:45:24.355297Z",
     "start_time": "2025-03-31T23:45:24.012375Z"
    }
   },
   "outputs": [],
   "source": [
    "image_paths_csv=bin_ages(image_paths_csv)"
   ]
  },
  {
   "cell_type": "code",
   "execution_count": 8,
   "id": "16c3a9dbe4822ddd",
   "metadata": {
    "ExecuteTime": {
     "end_time": "2025-03-31T23:45:24.365576Z",
     "start_time": "2025-03-31T23:45:24.361073Z"
    }
   },
   "outputs": [
    {
     "data": {
      "text/html": [
       "<div>\n",
       "<style scoped>\n",
       "    .dataframe tbody tr th:only-of-type {\n",
       "        vertical-align: middle;\n",
       "    }\n",
       "\n",
       "    .dataframe tbody tr th {\n",
       "        vertical-align: top;\n",
       "    }\n",
       "\n",
       "    .dataframe thead th {\n",
       "        text-align: right;\n",
       "    }\n",
       "</style>\n",
       "<table border=\"1\" class=\"dataframe\">\n",
       "  <thead>\n",
       "    <tr style=\"text-align: right;\">\n",
       "      <th></th>\n",
       "      <th>path</th>\n",
       "      <th>age</th>\n",
       "      <th>age_bin</th>\n",
       "      <th>age_bin_label</th>\n",
       "    </tr>\n",
       "  </thead>\n",
       "  <tbody>\n",
       "    <tr>\n",
       "      <th>0</th>\n",
       "      <td>../raw_data2/face_age/001/1000.png</td>\n",
       "      <td>1</td>\n",
       "      <td>0</td>\n",
       "      <td>Infants (1–2)</td>\n",
       "    </tr>\n",
       "    <tr>\n",
       "      <th>1</th>\n",
       "      <td>../raw_data2/face_age/001/1018.png</td>\n",
       "      <td>1</td>\n",
       "      <td>0</td>\n",
       "      <td>Infants (1–2)</td>\n",
       "    </tr>\n",
       "    <tr>\n",
       "      <th>2</th>\n",
       "      <td>../raw_data2/face_age/001/1030.png</td>\n",
       "      <td>1</td>\n",
       "      <td>0</td>\n",
       "      <td>Infants (1–2)</td>\n",
       "    </tr>\n",
       "    <tr>\n",
       "      <th>3</th>\n",
       "      <td>../raw_data2/face_age/001/1062.png</td>\n",
       "      <td>1</td>\n",
       "      <td>0</td>\n",
       "      <td>Infants (1–2)</td>\n",
       "    </tr>\n",
       "    <tr>\n",
       "      <th>4</th>\n",
       "      <td>../raw_data2/face_age/001/1068.png</td>\n",
       "      <td>1</td>\n",
       "      <td>0</td>\n",
       "      <td>Infants (1–2)</td>\n",
       "    </tr>\n",
       "  </tbody>\n",
       "</table>\n",
       "</div>"
      ],
      "text/plain": [
       "                                 path  age age_bin  age_bin_label\n",
       "0  ../raw_data2/face_age/001/1000.png    1       0  Infants (1–2)\n",
       "1  ../raw_data2/face_age/001/1018.png    1       0  Infants (1–2)\n",
       "2  ../raw_data2/face_age/001/1030.png    1       0  Infants (1–2)\n",
       "3  ../raw_data2/face_age/001/1062.png    1       0  Infants (1–2)\n",
       "4  ../raw_data2/face_age/001/1068.png    1       0  Infants (1–2)"
      ]
     },
     "execution_count": 8,
     "metadata": {},
     "output_type": "execute_result"
    }
   ],
   "source": [
    "image_paths_csv.head()"
   ]
  },
  {
   "cell_type": "code",
   "execution_count": 9,
   "id": "219604bfba6ef99a",
   "metadata": {
    "ExecuteTime": {
     "end_time": "2025-03-31T23:45:24.461072Z",
     "start_time": "2025-03-31T23:45:24.456529Z"
    }
   },
   "outputs": [
    {
     "data": {
      "text/plain": [
       "0       ../raw_data2/face_age/001/1000.png\n",
       "1       ../raw_data2/face_age/001/1018.png\n",
       "2       ../raw_data2/face_age/001/1030.png\n",
       "3       ../raw_data2/face_age/001/1062.png\n",
       "4       ../raw_data2/face_age/001/1068.png\n",
       "                       ...                \n",
       "9567    ../raw_data2/face_age/100/2694.png\n",
       "9568    ../raw_data2/face_age/100/6408.png\n",
       "9569    ../raw_data2/face_age/101/1554.png\n",
       "9570    ../raw_data2/face_age/110/3906.png\n",
       "9571    ../raw_data2/face_age/110/9628.png\n",
       "Name: path, Length: 9572, dtype: object"
      ]
     },
     "execution_count": 9,
     "metadata": {},
     "output_type": "execute_result"
    }
   ],
   "source": [
    "image_paths_csv.path"
   ]
  },
  {
   "cell_type": "code",
   "execution_count": 10,
   "id": "5227d58c6878e919",
   "metadata": {
    "ExecuteTime": {
     "end_time": "2025-03-31T23:45:24.512688Z",
     "start_time": "2025-03-31T23:45:24.499340Z"
    }
   },
   "outputs": [],
   "source": [
    "import os\n",
    "os.makedirs(\"./processed_data\",exist_ok=True)\n",
    "\n",
    "image_paths_csv.to_csv(\"./processed_data/image_paths.csv\", index=False)"
   ]
  },
  {
   "cell_type": "code",
   "execution_count": 11,
   "id": "fbb68066931a6592",
   "metadata": {
    "ExecuteTime": {
     "end_time": "2025-03-31T23:45:24.575822Z",
     "start_time": "2025-03-31T23:45:24.570255Z"
    }
   },
   "outputs": [
    {
     "data": {
      "text/plain": [
       "age_bin\n",
       "0     1572\n",
       "1      712\n",
       "2      459\n",
       "3      453\n",
       "4      641\n",
       "5      875\n",
       "6     1325\n",
       "7      854\n",
       "8      901\n",
       "9      710\n",
       "10     489\n",
       "11     299\n",
       "12     282\n",
       "Name: count, dtype: int64"
      ]
     },
     "execution_count": 11,
     "metadata": {},
     "output_type": "execute_result"
    }
   ],
   "source": [
    "image_paths_csv.age_bin.value_counts().sort_index()"
   ]
  },
  {
   "cell_type": "code",
   "execution_count": 12,
   "id": "35526a038200877a",
   "metadata": {
    "ExecuteTime": {
     "end_time": "2025-03-31T23:45:24.647195Z",
     "start_time": "2025-03-31T23:45:24.642989Z"
    }
   },
   "outputs": [],
   "source": [
    "paths_train_df, paths_val_df, paths_test_df = split_data(image_paths_csv)"
   ]
  }
 ],
 "metadata": {
  "kernelspec": {
   "display_name": "Python 3",
   "language": "python",
   "name": "python3"
  },
  "language_info": {
   "codemirror_mode": {
    "name": "ipython",
    "version": 3
   },
   "file_extension": ".py",
   "mimetype": "text/x-python",
   "name": "python",
   "nbconvert_exporter": "python",
   "pygments_lexer": "ipython3",
   "version": "3.11.11"
  }
 },
 "nbformat": 4,
 "nbformat_minor": 5
}
