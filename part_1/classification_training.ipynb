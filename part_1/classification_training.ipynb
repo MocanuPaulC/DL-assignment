{
 "cells": [
  {
   "cell_type": "code",
   "id": "initial_id",
   "metadata": {
    "collapsed": true,
    "ExecuteTime": {
     "end_time": "2025-04-02T09:19:47.400565Z",
     "start_time": "2025-04-02T09:19:47.383485Z"
    }
   },
   "source": [
    "import os\n",
    "# os.environ[\"TF_GPU_ALLOCATOR\"] = \"cuda_malloc_async\"\n",
    "import shutil\n",
    "import sys\n",
    "from pathlib import Path\n",
    "\n",
    "# Add parent directory to sys.path\n",
    "parent_dir = Path(\"..\").resolve()\n",
    "if str(parent_dir) not in sys.path:\n",
    "    sys.path.insert(0, str(parent_dir))\n",
    "import optuna\n",
    "import tensorflow as tf\n",
    "import os\n",
    "import importlib\n",
    "import common_utils\n",
    "from common_utils import *\n",
    "importlib.reload(common_utils)\n",
    "\n",
    "import pandas as pd\n",
    "import itertools\n",
    "import tensorflow as tf\n",
    "gpus = tf.config.list_physical_devices('GPU')\n",
    "if gpus:\n",
    "    try:\n",
    "        for gpu in gpus:\n",
    "            tf.config.experimental.set_memory_growth(gpu, True)\n",
    "    except RuntimeError as e:\n",
    "        print(e)\n",
    "\n",
    "from common_utils import (\n",
    "    get_unique_image_shapes,\n",
    "    get_unique_image_paths,\n",
    "    load_images_from_paths,\n",
    "    build_image_dataframe,\n",
    "    split_data,\n",
    "    bin_ages,\n",
    "    build_cnn_model,\n",
    "    build_model_from_config\n",
    ")\n"
   ],
   "outputs": [],
   "execution_count": 2
  },
  {
   "cell_type": "code",
   "id": "a5acada596262b76",
   "metadata": {
    "ExecuteTime": {
     "end_time": "2025-04-02T09:19:47.420221Z",
     "start_time": "2025-04-02T09:19:47.405333Z"
    }
   },
   "source": [
    "image_paths_csv = pd.read_csv('./processed_data/image_paths.csv')"
   ],
   "outputs": [],
   "execution_count": 4
  },
  {
   "cell_type": "code",
   "id": "e6164dda010f022",
   "metadata": {
    "ExecuteTime": {
     "end_time": "2025-04-02T09:19:47.424724Z",
     "start_time": "2025-04-02T09:19:47.421346Z"
    }
   },
   "source": [
    "paths_train_df, paths_val_df, paths_test_df = split_data(image_paths_csv)\n"
   ],
   "outputs": [],
   "execution_count": 5
  },
  {
   "cell_type": "code",
   "id": "7c9e2ceb3a1f9176",
   "metadata": {
    "ExecuteTime": {
     "end_time": "2025-04-02T09:19:47.434848Z",
     "start_time": "2025-04-02T09:19:47.425372Z"
    }
   },
   "source": [
    "paths_train_df"
   ],
   "outputs": [
    {
     "data": {
      "text/plain": [
       "                                    path  age  age_bin          age_bin_label\n",
       "0     ../raw_data2/face_age/015/5220.png   15        4          Teens (13–17)\n",
       "1     ../raw_data2/face_age/016/8444.png   16        4          Teens (13–17)\n",
       "2     ../raw_data2/face_age/052/1059.png   52        8  Mature Adults (45–54)\n",
       "3     ../raw_data2/face_age/013/3292.png   13        4          Teens (13–17)\n",
       "4     ../raw_data2/face_age/025/6427.png   25        6         Adults (25–34)\n",
       "...                                  ...  ...      ...                    ...\n",
       "6887  ../raw_data2/face_age/027/3983.png   27        6         Adults (25–34)\n",
       "6888  ../raw_data2/face_age/024/7066.png   24        5   Young Adults (18–24)\n",
       "6889   ../raw_data2/face_age/002/830.png    2        0          Infants (1–2)\n",
       "6890  ../raw_data2/face_age/001/7108.png    1        0          Infants (1–2)\n",
       "6891  ../raw_data2/face_age/001/8036.png    1        0          Infants (1–2)\n",
       "\n",
       "[6892 rows x 4 columns]"
      ],
      "text/html": [
       "<div>\n",
       "<style scoped>\n",
       "    .dataframe tbody tr th:only-of-type {\n",
       "        vertical-align: middle;\n",
       "    }\n",
       "\n",
       "    .dataframe tbody tr th {\n",
       "        vertical-align: top;\n",
       "    }\n",
       "\n",
       "    .dataframe thead th {\n",
       "        text-align: right;\n",
       "    }\n",
       "</style>\n",
       "<table border=\"1\" class=\"dataframe\">\n",
       "  <thead>\n",
       "    <tr style=\"text-align: right;\">\n",
       "      <th></th>\n",
       "      <th>path</th>\n",
       "      <th>age</th>\n",
       "      <th>age_bin</th>\n",
       "      <th>age_bin_label</th>\n",
       "    </tr>\n",
       "  </thead>\n",
       "  <tbody>\n",
       "    <tr>\n",
       "      <th>0</th>\n",
       "      <td>../raw_data2/face_age/015/5220.png</td>\n",
       "      <td>15</td>\n",
       "      <td>4</td>\n",
       "      <td>Teens (13–17)</td>\n",
       "    </tr>\n",
       "    <tr>\n",
       "      <th>1</th>\n",
       "      <td>../raw_data2/face_age/016/8444.png</td>\n",
       "      <td>16</td>\n",
       "      <td>4</td>\n",
       "      <td>Teens (13–17)</td>\n",
       "    </tr>\n",
       "    <tr>\n",
       "      <th>2</th>\n",
       "      <td>../raw_data2/face_age/052/1059.png</td>\n",
       "      <td>52</td>\n",
       "      <td>8</td>\n",
       "      <td>Mature Adults (45–54)</td>\n",
       "    </tr>\n",
       "    <tr>\n",
       "      <th>3</th>\n",
       "      <td>../raw_data2/face_age/013/3292.png</td>\n",
       "      <td>13</td>\n",
       "      <td>4</td>\n",
       "      <td>Teens (13–17)</td>\n",
       "    </tr>\n",
       "    <tr>\n",
       "      <th>4</th>\n",
       "      <td>../raw_data2/face_age/025/6427.png</td>\n",
       "      <td>25</td>\n",
       "      <td>6</td>\n",
       "      <td>Adults (25–34)</td>\n",
       "    </tr>\n",
       "    <tr>\n",
       "      <th>...</th>\n",
       "      <td>...</td>\n",
       "      <td>...</td>\n",
       "      <td>...</td>\n",
       "      <td>...</td>\n",
       "    </tr>\n",
       "    <tr>\n",
       "      <th>6887</th>\n",
       "      <td>../raw_data2/face_age/027/3983.png</td>\n",
       "      <td>27</td>\n",
       "      <td>6</td>\n",
       "      <td>Adults (25–34)</td>\n",
       "    </tr>\n",
       "    <tr>\n",
       "      <th>6888</th>\n",
       "      <td>../raw_data2/face_age/024/7066.png</td>\n",
       "      <td>24</td>\n",
       "      <td>5</td>\n",
       "      <td>Young Adults (18–24)</td>\n",
       "    </tr>\n",
       "    <tr>\n",
       "      <th>6889</th>\n",
       "      <td>../raw_data2/face_age/002/830.png</td>\n",
       "      <td>2</td>\n",
       "      <td>0</td>\n",
       "      <td>Infants (1–2)</td>\n",
       "    </tr>\n",
       "    <tr>\n",
       "      <th>6890</th>\n",
       "      <td>../raw_data2/face_age/001/7108.png</td>\n",
       "      <td>1</td>\n",
       "      <td>0</td>\n",
       "      <td>Infants (1–2)</td>\n",
       "    </tr>\n",
       "    <tr>\n",
       "      <th>6891</th>\n",
       "      <td>../raw_data2/face_age/001/8036.png</td>\n",
       "      <td>1</td>\n",
       "      <td>0</td>\n",
       "      <td>Infants (1–2)</td>\n",
       "    </tr>\n",
       "  </tbody>\n",
       "</table>\n",
       "<p>6892 rows × 4 columns</p>\n",
       "</div>"
      ]
     },
     "execution_count": 6,
     "metadata": {},
     "output_type": "execute_result"
    }
   ],
   "execution_count": 6
  },
  {
   "cell_type": "code",
   "id": "42e398f76e04c83c",
   "metadata": {
    "ExecuteTime": {
     "end_time": "2025-04-02T09:19:47.451269Z",
     "start_time": "2025-04-02T09:19:47.436024Z"
    }
   },
   "source": [
    "# Converting the filenames and target class labels into lists for augmented train and test datasets.\n",
    "\n",
    "train_filenames_list = list(paths_train_df['path'])\n",
    "train_labels_list = list(paths_train_df['age_bin'])\n",
    "\n",
    "train_filenames_tensor = tf.constant(train_filenames_list)\n",
    "train_labels_tensor = tf.constant(train_labels_list)\n",
    "\n",
    "val_filenames_list = list(paths_val_df['path'])\n",
    "val_labels_list = list(paths_val_df['age_bin'])\n",
    "\n",
    "val_filenames_tensor = tf.constant(val_filenames_list)\n",
    "val_labels_tensor = tf.constant(val_labels_list)\n"
   ],
   "outputs": [
    {
     "name": "stderr",
     "output_type": "stream",
     "text": [
      "2025-04-02 10:19:47.440012: I metal_plugin/src/device/metal_device.cc:1154] Metal device set to: Apple M3\n",
      "2025-04-02 10:19:47.440061: I metal_plugin/src/device/metal_device.cc:296] systemMemory: 16.00 GB\n",
      "2025-04-02 10:19:47.440079: I metal_plugin/src/device/metal_device.cc:313] maxCacheSize: 5.33 GB\n",
      "2025-04-02 10:19:47.440098: I tensorflow/core/common_runtime/pluggable_device/pluggable_device_factory.cc:305] Could not identify NUMA node of platform GPU ID 0, defaulting to 0. Your kernel may not have been built with NUMA support.\n",
      "2025-04-02 10:19:47.440116: I tensorflow/core/common_runtime/pluggable_device/pluggable_device_factory.cc:271] Created TensorFlow device (/job:localhost/replica:0/task:0/device:GPU:0 with 0 MB memory) -> physical PluggableDevice (device: 0, name: METAL, pci bus id: <undefined>)\n"
     ]
    }
   ],
   "execution_count": 7
  },
  {
   "cell_type": "code",
   "id": "581a5c16afb90f43",
   "metadata": {
    "ExecuteTime": {
     "end_time": "2025-04-02T09:19:47.453532Z",
     "start_time": "2025-04-02T09:19:47.451982Z"
    }
   },
   "source": [],
   "outputs": [],
   "execution_count": 7
  },
  {
   "cell_type": "code",
   "id": "f77f27c3567505cf",
   "metadata": {
    "ExecuteTime": {
     "end_time": "2025-04-02T09:19:47.456480Z",
     "start_time": "2025-04-02T09:19:47.454080Z"
    }
   },
   "source": [
    "batch_size = 128\n",
    "configurations = {\n",
    "    'channels': [1,3],\n",
    "    'num_conv_layers': [3,4],\n",
    "    'base_filters': [32,64],\n",
    "    'kernel_size': [3,5],\n",
    "    'activation': ['relu','swish'],\n",
    "    'use_skip': [False,True],\n",
    "    'num_dense_layers': [1,2],\n",
    "    'dense_units': [128,256],\n",
    "    'num_classes': [13],\n",
    "    'dropout_rate': [0.3, 0.5],\n",
    "    'output_activation': ['softmax','sigmoid'],\n",
    "    'pool_size': [2],\n",
    "    'task': ['classification']\n",
    "}\n",
    "\n",
    "\n"
   ],
   "outputs": [],
   "execution_count": 8
  },
  {
   "metadata": {
    "ExecuteTime": {
     "end_time": "2025-04-02T09:19:47.458486Z",
     "start_time": "2025-04-02T09:19:47.457170Z"
    }
   },
   "cell_type": "code",
   "source": [
    "# Defining the architecture of the sequential neural network.\n",
    "\n",
    "model=build_sequential_cnn_model(\n",
    "    channels=1,\n",
    "    dropout_rate=0,\n",
    "    task=\"classification\",\n",
    "    num_classes=13,\n",
    "    num_conv_layers=4,\n",
    "    conv_filters=[32, 64, 128, 256],\n",
    "    kernel_size=3,\n",
    "    activation=\"relu\",\n",
    "    num_dense_layers=1,\n",
    "    dense_units=[132],\n",
    "    output_activation=\"softmax\"\n",
    ")\n"
   ],
   "id": "4aca3121863a1d00",
   "outputs": [],
   "execution_count": 8
  },
  {
   "cell_type": "code",
   "id": "e736c21984667af3",
   "metadata": {
    "ExecuteTime": {
     "end_time": "2025-04-02T09:19:47.465718Z",
     "start_time": "2025-04-02T09:19:47.458916Z"
    }
   },
   "source": [
    "\n",
    "\n",
    "all_combinations = list(itertools.product(*configurations.values()))\n",
    "print(f\"nr of combinations : %d\", len(all_combinations))\n",
    "valid_configs = []\n",
    "\n"
   ],
   "outputs": [
    {
     "name": "stdout",
     "output_type": "stream",
     "text": [
      "nr of combinations : %d 1024\n"
     ]
    }
   ],
   "execution_count": 9
  },
  {
   "cell_type": "code",
   "id": "c148d5e8b1c8ddb9",
   "metadata": {
    "ExecuteTime": {
     "end_time": "2025-04-02T09:19:47.777038Z",
     "start_time": "2025-04-02T09:19:47.466692Z"
    }
   },
   "source": [
    "train_dataset = load_images_from_paths(train_filenames_tensor,train_labels_tensor, channels=3,ratio=1, batch_size=batch_size)\n",
    "val_dataset = load_images_from_paths(val_filenames_tensor,val_labels_tensor, channels=3,ratio=1,batch_size=batch_size)\n"
   ],
   "outputs": [],
   "execution_count": 10
  },
  {
   "cell_type": "code",
   "id": "6f3b6c2badd58277",
   "metadata": {
    "ExecuteTime": {
     "end_time": "2025-04-02T09:19:47.876152Z",
     "start_time": "2025-04-02T09:19:47.778559Z"
    }
   },
   "source": [
    "\n",
    "import gc\n",
    "# Assume these functions are defined elsewhere:\n",
    "# - load_images_from_paths(filenames, labels, channels, ratio, batch_size)\n",
    "# - build_model_from_config(config)\n",
    "#\n",
    "# Also assume that the following dataset variables are defined:\n",
    "# train_filenames_tensor, train_labels_tensor, val_filenames_tensor, val_labels_tensor\n",
    "\n",
    "def objective(trial):\n",
    "    # Define hyperparameters using Optuna suggestions.\n",
    "    config = {\n",
    "        'batch_size': trial.suggest_categorical('batch_size',[32,64,128,256]),  \n",
    "        'channels': trial.suggest_categorical('channels', [1, 3]),\n",
    "        'num_conv_layers': trial.suggest_categorical('num_conv_layers', [3, 4, 5]),\n",
    "        'base_filters': trial.suggest_categorical('base_filters', [32, 64, 128]),\n",
    "        'kernel_size': trial.suggest_categorical('kernel_size', [3, 5, 7]),\n",
    "        'activation': trial.suggest_categorical('activation', ['relu', 'swish']),\n",
    "        'use_skip': False,\n",
    "        'num_dense_layers': trial.suggest_categorical('num_dense_layers', [1, 2, 3]),\n",
    "        'dense_units': trial.suggest_categorical('dense_units', [128, 256]),\n",
    "        'num_classes': 13,  # Fixed\n",
    "        'dropout_rate': trial.suggest_categorical('dropout_rate', [0.3, 0.5, 0.7]),\n",
    "        'output_activation': trial.suggest_categorical('output_activation', ['softmax', 'sigmoid']),\n",
    "        'pool_size': trial.suggest_categorical('pool_size', [2, 3]),\n",
    "        'task': 'classification',\n",
    "    }\n",
    "    \n",
    "    # Enforce: If use_skip=True, then use_pooling is False; otherwise, True.\n",
    "    config['use_pooling'] = False if config['use_skip'] else True\n",
    "\n",
    "    # Generate a model name from the configuration for logging.\n",
    "    model_name = \"_\".join([\n",
    "        f\"{config['channels']}ch\",\n",
    "        f\"skip_{config['use_skip']}\",\n",
    "        f\"conv{config['num_conv_layers']}\",\n",
    "        f\"k{config['kernel_size']}\",\n",
    "        config['activation'],\n",
    "        f\"dense{config['num_dense_layers']}x{config['dense_units']}\",\n",
    "        f\"drop{config['dropout_rate']}\",\n",
    "        f\"out_{config['output_activation']}\"\n",
    "    ])\n",
    "    trial.set_user_attr('model_name', model_name)\n",
    "# Define model save directory and filename.\n",
    "    model_dir = \"saved_models\"\n",
    "    os.makedirs(model_dir, exist_ok=True)\n",
    "    model_filename = f\"{model_name}.keras\"  # Note: no trial number here.\n",
    "    model_path = os.path.join(model_dir, model_filename)\n",
    "    \n",
    "    # If the model has already been trained, load it and evaluate.\n",
    "    if os.path.exists(model_path):\n",
    "        print(f\"Model {model_name} already trained. Loading saved model.\")\n",
    "        model = tf.keras.models.load_model(model_path)\n",
    "        val_dataset = load_images_from_paths(val_filenames_tensor, val_labels_tensor,\n",
    "                                             channels=config['channels'], ratio=1,\n",
    "                                             batch_size=config['batch_size'])\n",
    "        loss, val_acc = model.evaluate(val_dataset, verbose=0)\n",
    "        trial.set_user_attr('model_path', model_path)\n",
    "        return val_acc\n",
    "\n",
    "    # Build the model from the configuration.\n",
    "    model = build_model_from_config(config)\n",
    "    model.compile(\n",
    "        optimizer='lion',\n",
    "        loss='categorical_crossentropy',  # Fixed loss function.\n",
    "        metrics=['accuracy']\n",
    "    )\n",
    "\n",
    "    # Load datasets using the specified channels and batch_size.\n",
    "    train_dataset = load_images_from_paths(train_filenames_tensor, train_labels_tensor,\n",
    "                                           channels=config['channels'], ratio=1,\n",
    "                                           batch_size=config['batch_size'])\n",
    "    val_dataset = load_images_from_paths(val_filenames_tensor, val_labels_tensor,\n",
    "                                         channels=config['channels'], ratio=1,\n",
    "                                         batch_size=config['batch_size'])\n",
    "\n",
    "    # Train the model with early stopping.\n",
    "    history = model.fit(\n",
    "        train_dataset,\n",
    "        validation_data=val_dataset,\n",
    "        epochs=50,\n",
    "        verbose=0,\n",
    "        callbacks=[tf.keras.callbacks.EarlyStopping(patience=10, restore_best_weights=True)]\n",
    "    )\n",
    "\n",
    "     # Save the trained model to disk.\n",
    "    model_dir = \"saved_models\"\n",
    "    os.makedirs(model_dir, exist_ok=True)\n",
    "    model_filename = f\"{model_name}_trial_{trial.number}.keras\"\n",
    "    model_path = os.path.join(model_dir, model_filename)\n",
    "    model.save(model_path)\n",
    "\n",
    "    del train_dataset, val_dataset, model\n",
    "    tf.keras.backend.clear_session()\n",
    "\n",
    "    trial.set_user_attr('model_path', model_path)\n",
    "    \n",
    "    val_acc = max(history.history['val_accuracy'])\n",
    "    print(f\"Trial {trial.number} | Model: {model_name} | Val Acc: {val_acc:.4f}\")\n",
    "    gc.collect()\n",
    "    return val_acc\n",
    "    \n",
    "    \n",
    "study = optuna.create_study(direction='maximize')\n",
    "\n",
    "# n_trials defines how many different hyperparameter configurations will be evaluated.\n",
    "# Here it's set to 10 for demonstration. In practice, you might increase this number to explore the search space more thoroughly.\n",
    "study.optimize(objective, n_trials=100)\n",
    "\n",
    "best_trials = sorted(study.trials, key=lambda t: t.value, reverse=True)[:10]\n",
    "best_models_dir = \"best_models\"\n",
    "os.makedirs(best_models_dir, exist_ok=True)\n",
    "\n",
    "print(\"\\nSaving best models:\")\n",
    "for trial in best_trials:\n",
    "    model_path = trial.user_attrs.get('model_path')\n",
    "    model_name = trial.user_attrs.get('model_name')\n",
    "    if model_path and os.path.exists(model_path):\n",
    "        dest_path = os.path.join(best_models_dir, os.path.basename(model_path))\n",
    "        shutil.copy(model_path, dest_path)\n",
    "        print(f\"Saved {model_name} with Val Acc: {trial.value:.4f} to {dest_path}\")\n",
    "\n",
    "# Display the best trial's results.\n",
    "best_trial = study.best_trial\n",
    "print(\"\\nBest trial:\")\n",
    "print(f\"  Model: {best_trial.user_attrs['model_name']}\")\n",
    "print(f\"  Validation Accuracy: {best_trial.value:.4f}\")\n",
    "print(\"  Hyperparameters:\")\n",
    "for key, value in best_trial.params.items():\n",
    "    print(f\"    {key}: {value}\")\n",
    "\n",
    "\n"
   ],
   "outputs": [
    {
     "name": "stderr",
     "output_type": "stream",
     "text": [
      "[I 2025-04-02 10:19:47,783] A new study created in memory with name: no-name-feb6120a-7c13-40a7-a11f-fea6f70e072f\n",
      "[W 2025-04-02 10:19:47,786] Trial 0 failed with parameters: {'batch_size': 64, 'channels': 3, 'num_conv_layers': 5, 'base_filters': 32, 'kernel_size': 3, 'activation': 'swish', 'num_dense_layers': 1, 'dense_units': 256, 'dropout_rate': 0.3, 'output_activation': 'sigmoid', 'pool_size': 3} because of the following error: TypeError(\"build_cnn_model() got an unexpected keyword argument 'use_pooling'\").\n",
      "Traceback (most recent call last):\n",
      "  File \"/Users/bytedance/PycharmProjects/DL-assignment/.venv/lib/python3.11/site-packages/optuna/study/_optimize.py\", line 197, in _run_trial\n",
      "    value_or_values = func(trial)\n",
      "                      ^^^^^^^^^^^\n",
      "  File \"/var/folders/00/rgy_w4m1779bfcbsp27pgb_r0000gn/T/ipykernel_62546/4082767753.py\", line 61, in objective\n",
      "    model = build_model_from_config(config)\n",
      "            ^^^^^^^^^^^^^^^^^^^^^^^^^^^^^^^\n",
      "  File \"/Users/bytedance/PycharmProjects/DL-assignment/common_utils.py\", line 223, in build_model_from_config\n",
      "    model = build_cnn_model(\n",
      "            ^^^^^^^^^^^^^^^^\n",
      "TypeError: build_cnn_model() got an unexpected keyword argument 'use_pooling'\n",
      "[W 2025-04-02 10:19:47,786] Trial 0 failed with value None.\n"
     ]
    },
    {
     "ename": "TypeError",
     "evalue": "build_cnn_model() got an unexpected keyword argument 'use_pooling'",
     "output_type": "error",
     "traceback": [
      "\u001B[31m---------------------------------------------------------------------------\u001B[39m",
      "\u001B[31mTypeError\u001B[39m                                 Traceback (most recent call last)",
      "\u001B[36mCell\u001B[39m\u001B[36m \u001B[39m\u001B[32mIn[11]\u001B[39m\u001B[32m, line 107\u001B[39m\n\u001B[32m    103\u001B[39m study = optuna.create_study(direction=\u001B[33m'\u001B[39m\u001B[33mmaximize\u001B[39m\u001B[33m'\u001B[39m)\n\u001B[32m    105\u001B[39m \u001B[38;5;66;03m# n_trials defines how many different hyperparameter configurations will be evaluated.\u001B[39;00m\n\u001B[32m    106\u001B[39m \u001B[38;5;66;03m# Here it's set to 10 for demonstration. In practice, you might increase this number to explore the search space more thoroughly.\u001B[39;00m\n\u001B[32m--> \u001B[39m\u001B[32m107\u001B[39m \u001B[43mstudy\u001B[49m\u001B[43m.\u001B[49m\u001B[43moptimize\u001B[49m\u001B[43m(\u001B[49m\u001B[43mobjective\u001B[49m\u001B[43m,\u001B[49m\u001B[43m \u001B[49m\u001B[43mn_trials\u001B[49m\u001B[43m=\u001B[49m\u001B[32;43m100\u001B[39;49m\u001B[43m)\u001B[49m\n\u001B[32m    109\u001B[39m best_trials = \u001B[38;5;28msorted\u001B[39m(study.trials, key=\u001B[38;5;28;01mlambda\u001B[39;00m t: t.value, reverse=\u001B[38;5;28;01mTrue\u001B[39;00m)[:\u001B[32m10\u001B[39m]\n\u001B[32m    110\u001B[39m best_models_dir = \u001B[33m\"\u001B[39m\u001B[33mbest_models\u001B[39m\u001B[33m\"\u001B[39m\n",
      "\u001B[36mFile \u001B[39m\u001B[32m~/PycharmProjects/DL-assignment/.venv/lib/python3.11/site-packages/optuna/study/study.py:475\u001B[39m, in \u001B[36mStudy.optimize\u001B[39m\u001B[34m(self, func, n_trials, timeout, n_jobs, catch, callbacks, gc_after_trial, show_progress_bar)\u001B[39m\n\u001B[32m    373\u001B[39m \u001B[38;5;28;01mdef\u001B[39;00m\u001B[38;5;250m \u001B[39m\u001B[34moptimize\u001B[39m(\n\u001B[32m    374\u001B[39m     \u001B[38;5;28mself\u001B[39m,\n\u001B[32m    375\u001B[39m     func: ObjectiveFuncType,\n\u001B[32m   (...)\u001B[39m\u001B[32m    382\u001B[39m     show_progress_bar: \u001B[38;5;28mbool\u001B[39m = \u001B[38;5;28;01mFalse\u001B[39;00m,\n\u001B[32m    383\u001B[39m ) -> \u001B[38;5;28;01mNone\u001B[39;00m:\n\u001B[32m    384\u001B[39m \u001B[38;5;250m    \u001B[39m\u001B[33;03m\"\"\"Optimize an objective function.\u001B[39;00m\n\u001B[32m    385\u001B[39m \n\u001B[32m    386\u001B[39m \u001B[33;03m    Optimization is done by choosing a suitable set of hyperparameter values from a given\u001B[39;00m\n\u001B[32m   (...)\u001B[39m\u001B[32m    473\u001B[39m \u001B[33;03m            If nested invocation of this method occurs.\u001B[39;00m\n\u001B[32m    474\u001B[39m \u001B[33;03m    \"\"\"\u001B[39;00m\n\u001B[32m--> \u001B[39m\u001B[32m475\u001B[39m     \u001B[43m_optimize\u001B[49m\u001B[43m(\u001B[49m\n\u001B[32m    476\u001B[39m \u001B[43m        \u001B[49m\u001B[43mstudy\u001B[49m\u001B[43m=\u001B[49m\u001B[38;5;28;43mself\u001B[39;49m\u001B[43m,\u001B[49m\n\u001B[32m    477\u001B[39m \u001B[43m        \u001B[49m\u001B[43mfunc\u001B[49m\u001B[43m=\u001B[49m\u001B[43mfunc\u001B[49m\u001B[43m,\u001B[49m\n\u001B[32m    478\u001B[39m \u001B[43m        \u001B[49m\u001B[43mn_trials\u001B[49m\u001B[43m=\u001B[49m\u001B[43mn_trials\u001B[49m\u001B[43m,\u001B[49m\n\u001B[32m    479\u001B[39m \u001B[43m        \u001B[49m\u001B[43mtimeout\u001B[49m\u001B[43m=\u001B[49m\u001B[43mtimeout\u001B[49m\u001B[43m,\u001B[49m\n\u001B[32m    480\u001B[39m \u001B[43m        \u001B[49m\u001B[43mn_jobs\u001B[49m\u001B[43m=\u001B[49m\u001B[43mn_jobs\u001B[49m\u001B[43m,\u001B[49m\n\u001B[32m    481\u001B[39m \u001B[43m        \u001B[49m\u001B[43mcatch\u001B[49m\u001B[43m=\u001B[49m\u001B[38;5;28;43mtuple\u001B[39;49m\u001B[43m(\u001B[49m\u001B[43mcatch\u001B[49m\u001B[43m)\u001B[49m\u001B[43m \u001B[49m\u001B[38;5;28;43;01mif\u001B[39;49;00m\u001B[43m \u001B[49m\u001B[38;5;28;43misinstance\u001B[39;49m\u001B[43m(\u001B[49m\u001B[43mcatch\u001B[49m\u001B[43m,\u001B[49m\u001B[43m \u001B[49m\u001B[43mIterable\u001B[49m\u001B[43m)\u001B[49m\u001B[43m \u001B[49m\u001B[38;5;28;43;01melse\u001B[39;49;00m\u001B[43m \u001B[49m\u001B[43m(\u001B[49m\u001B[43mcatch\u001B[49m\u001B[43m,\u001B[49m\u001B[43m)\u001B[49m\u001B[43m,\u001B[49m\n\u001B[32m    482\u001B[39m \u001B[43m        \u001B[49m\u001B[43mcallbacks\u001B[49m\u001B[43m=\u001B[49m\u001B[43mcallbacks\u001B[49m\u001B[43m,\u001B[49m\n\u001B[32m    483\u001B[39m \u001B[43m        \u001B[49m\u001B[43mgc_after_trial\u001B[49m\u001B[43m=\u001B[49m\u001B[43mgc_after_trial\u001B[49m\u001B[43m,\u001B[49m\n\u001B[32m    484\u001B[39m \u001B[43m        \u001B[49m\u001B[43mshow_progress_bar\u001B[49m\u001B[43m=\u001B[49m\u001B[43mshow_progress_bar\u001B[49m\u001B[43m,\u001B[49m\n\u001B[32m    485\u001B[39m \u001B[43m    \u001B[49m\u001B[43m)\u001B[49m\n",
      "\u001B[36mFile \u001B[39m\u001B[32m~/PycharmProjects/DL-assignment/.venv/lib/python3.11/site-packages/optuna/study/_optimize.py:63\u001B[39m, in \u001B[36m_optimize\u001B[39m\u001B[34m(study, func, n_trials, timeout, n_jobs, catch, callbacks, gc_after_trial, show_progress_bar)\u001B[39m\n\u001B[32m     61\u001B[39m \u001B[38;5;28;01mtry\u001B[39;00m:\n\u001B[32m     62\u001B[39m     \u001B[38;5;28;01mif\u001B[39;00m n_jobs == \u001B[32m1\u001B[39m:\n\u001B[32m---> \u001B[39m\u001B[32m63\u001B[39m         \u001B[43m_optimize_sequential\u001B[49m\u001B[43m(\u001B[49m\n\u001B[32m     64\u001B[39m \u001B[43m            \u001B[49m\u001B[43mstudy\u001B[49m\u001B[43m,\u001B[49m\n\u001B[32m     65\u001B[39m \u001B[43m            \u001B[49m\u001B[43mfunc\u001B[49m\u001B[43m,\u001B[49m\n\u001B[32m     66\u001B[39m \u001B[43m            \u001B[49m\u001B[43mn_trials\u001B[49m\u001B[43m,\u001B[49m\n\u001B[32m     67\u001B[39m \u001B[43m            \u001B[49m\u001B[43mtimeout\u001B[49m\u001B[43m,\u001B[49m\n\u001B[32m     68\u001B[39m \u001B[43m            \u001B[49m\u001B[43mcatch\u001B[49m\u001B[43m,\u001B[49m\n\u001B[32m     69\u001B[39m \u001B[43m            \u001B[49m\u001B[43mcallbacks\u001B[49m\u001B[43m,\u001B[49m\n\u001B[32m     70\u001B[39m \u001B[43m            \u001B[49m\u001B[43mgc_after_trial\u001B[49m\u001B[43m,\u001B[49m\n\u001B[32m     71\u001B[39m \u001B[43m            \u001B[49m\u001B[43mreseed_sampler_rng\u001B[49m\u001B[43m=\u001B[49m\u001B[38;5;28;43;01mFalse\u001B[39;49;00m\u001B[43m,\u001B[49m\n\u001B[32m     72\u001B[39m \u001B[43m            \u001B[49m\u001B[43mtime_start\u001B[49m\u001B[43m=\u001B[49m\u001B[38;5;28;43;01mNone\u001B[39;49;00m\u001B[43m,\u001B[49m\n\u001B[32m     73\u001B[39m \u001B[43m            \u001B[49m\u001B[43mprogress_bar\u001B[49m\u001B[43m=\u001B[49m\u001B[43mprogress_bar\u001B[49m\u001B[43m,\u001B[49m\n\u001B[32m     74\u001B[39m \u001B[43m        \u001B[49m\u001B[43m)\u001B[49m\n\u001B[32m     75\u001B[39m     \u001B[38;5;28;01melse\u001B[39;00m:\n\u001B[32m     76\u001B[39m         \u001B[38;5;28;01mif\u001B[39;00m n_jobs == -\u001B[32m1\u001B[39m:\n",
      "\u001B[36mFile \u001B[39m\u001B[32m~/PycharmProjects/DL-assignment/.venv/lib/python3.11/site-packages/optuna/study/_optimize.py:160\u001B[39m, in \u001B[36m_optimize_sequential\u001B[39m\u001B[34m(study, func, n_trials, timeout, catch, callbacks, gc_after_trial, reseed_sampler_rng, time_start, progress_bar)\u001B[39m\n\u001B[32m    157\u001B[39m         \u001B[38;5;28;01mbreak\u001B[39;00m\n\u001B[32m    159\u001B[39m \u001B[38;5;28;01mtry\u001B[39;00m:\n\u001B[32m--> \u001B[39m\u001B[32m160\u001B[39m     frozen_trial = \u001B[43m_run_trial\u001B[49m\u001B[43m(\u001B[49m\u001B[43mstudy\u001B[49m\u001B[43m,\u001B[49m\u001B[43m \u001B[49m\u001B[43mfunc\u001B[49m\u001B[43m,\u001B[49m\u001B[43m \u001B[49m\u001B[43mcatch\u001B[49m\u001B[43m)\u001B[49m\n\u001B[32m    161\u001B[39m \u001B[38;5;28;01mfinally\u001B[39;00m:\n\u001B[32m    162\u001B[39m     \u001B[38;5;66;03m# The following line mitigates memory problems that can be occurred in some\u001B[39;00m\n\u001B[32m    163\u001B[39m     \u001B[38;5;66;03m# environments (e.g., services that use computing containers such as GitHub Actions).\u001B[39;00m\n\u001B[32m    164\u001B[39m     \u001B[38;5;66;03m# Please refer to the following PR for further details:\u001B[39;00m\n\u001B[32m    165\u001B[39m     \u001B[38;5;66;03m# https://github.com/optuna/optuna/pull/325.\u001B[39;00m\n\u001B[32m    166\u001B[39m     \u001B[38;5;28;01mif\u001B[39;00m gc_after_trial:\n",
      "\u001B[36mFile \u001B[39m\u001B[32m~/PycharmProjects/DL-assignment/.venv/lib/python3.11/site-packages/optuna/study/_optimize.py:248\u001B[39m, in \u001B[36m_run_trial\u001B[39m\u001B[34m(study, func, catch)\u001B[39m\n\u001B[32m    241\u001B[39m         \u001B[38;5;28;01massert\u001B[39;00m \u001B[38;5;28;01mFalse\u001B[39;00m, \u001B[33m\"\u001B[39m\u001B[33mShould not reach.\u001B[39m\u001B[33m\"\u001B[39m\n\u001B[32m    243\u001B[39m \u001B[38;5;28;01mif\u001B[39;00m (\n\u001B[32m    244\u001B[39m     frozen_trial.state == TrialState.FAIL\n\u001B[32m    245\u001B[39m     \u001B[38;5;129;01mand\u001B[39;00m func_err \u001B[38;5;129;01mis\u001B[39;00m \u001B[38;5;129;01mnot\u001B[39;00m \u001B[38;5;28;01mNone\u001B[39;00m\n\u001B[32m    246\u001B[39m     \u001B[38;5;129;01mand\u001B[39;00m \u001B[38;5;129;01mnot\u001B[39;00m \u001B[38;5;28misinstance\u001B[39m(func_err, catch)\n\u001B[32m    247\u001B[39m ):\n\u001B[32m--> \u001B[39m\u001B[32m248\u001B[39m     \u001B[38;5;28;01mraise\u001B[39;00m func_err\n\u001B[32m    249\u001B[39m \u001B[38;5;28;01mreturn\u001B[39;00m frozen_trial\n",
      "\u001B[36mFile \u001B[39m\u001B[32m~/PycharmProjects/DL-assignment/.venv/lib/python3.11/site-packages/optuna/study/_optimize.py:197\u001B[39m, in \u001B[36m_run_trial\u001B[39m\u001B[34m(study, func, catch)\u001B[39m\n\u001B[32m    195\u001B[39m \u001B[38;5;28;01mwith\u001B[39;00m get_heartbeat_thread(trial._trial_id, study._storage):\n\u001B[32m    196\u001B[39m     \u001B[38;5;28;01mtry\u001B[39;00m:\n\u001B[32m--> \u001B[39m\u001B[32m197\u001B[39m         value_or_values = \u001B[43mfunc\u001B[49m\u001B[43m(\u001B[49m\u001B[43mtrial\u001B[49m\u001B[43m)\u001B[49m\n\u001B[32m    198\u001B[39m     \u001B[38;5;28;01mexcept\u001B[39;00m exceptions.TrialPruned \u001B[38;5;28;01mas\u001B[39;00m e:\n\u001B[32m    199\u001B[39m         \u001B[38;5;66;03m# TODO(mamu): Handle multi-objective cases.\u001B[39;00m\n\u001B[32m    200\u001B[39m         state = TrialState.PRUNED\n",
      "\u001B[36mCell\u001B[39m\u001B[36m \u001B[39m\u001B[32mIn[11]\u001B[39m\u001B[32m, line 61\u001B[39m, in \u001B[36mobjective\u001B[39m\u001B[34m(trial)\u001B[39m\n\u001B[32m     58\u001B[39m     \u001B[38;5;28;01mreturn\u001B[39;00m val_acc\n\u001B[32m     60\u001B[39m \u001B[38;5;66;03m# Build the model from the configuration.\u001B[39;00m\n\u001B[32m---> \u001B[39m\u001B[32m61\u001B[39m model = \u001B[43mbuild_model_from_config\u001B[49m\u001B[43m(\u001B[49m\u001B[43mconfig\u001B[49m\u001B[43m)\u001B[49m\n\u001B[32m     62\u001B[39m model.compile(\n\u001B[32m     63\u001B[39m     optimizer=\u001B[33m'\u001B[39m\u001B[33mlion\u001B[39m\u001B[33m'\u001B[39m,\n\u001B[32m     64\u001B[39m     loss=\u001B[33m'\u001B[39m\u001B[33mcategorical_crossentropy\u001B[39m\u001B[33m'\u001B[39m,  \u001B[38;5;66;03m# Fixed loss function.\u001B[39;00m\n\u001B[32m     65\u001B[39m     metrics=[\u001B[33m'\u001B[39m\u001B[33maccuracy\u001B[39m\u001B[33m'\u001B[39m]\n\u001B[32m     66\u001B[39m )\n\u001B[32m     68\u001B[39m \u001B[38;5;66;03m# Load datasets using the specified channels and batch_size.\u001B[39;00m\n",
      "\u001B[36mFile \u001B[39m\u001B[32m~/PycharmProjects/DL-assignment/common_utils.py:223\u001B[39m, in \u001B[36mbuild_model_from_config\u001B[39m\u001B[34m(config)\u001B[39m\n\u001B[32m    220\u001B[39m conv_filters = [config[\u001B[33m'\u001B[39m\u001B[33mbase_filters\u001B[39m\u001B[33m'\u001B[39m] * (\u001B[32m2\u001B[39m ** i)\n\u001B[32m    221\u001B[39m                 \u001B[38;5;28;01mfor\u001B[39;00m i \u001B[38;5;129;01min\u001B[39;00m \u001B[38;5;28mrange\u001B[39m(config[\u001B[33m'\u001B[39m\u001B[33mnum_conv_layers\u001B[39m\u001B[33m'\u001B[39m])]\n\u001B[32m    222\u001B[39m \u001B[38;5;66;03m# Build the model\u001B[39;00m\n\u001B[32m--> \u001B[39m\u001B[32m223\u001B[39m model = \u001B[43mbuild_cnn_model\u001B[49m\u001B[43m(\u001B[49m\n\u001B[32m    224\u001B[39m \u001B[43m    \u001B[49m\u001B[43mtask\u001B[49m\u001B[43m=\u001B[49m\u001B[43mconfig\u001B[49m\u001B[43m[\u001B[49m\u001B[33;43m'\u001B[39;49m\u001B[33;43mtask\u001B[39;49m\u001B[33;43m'\u001B[39;49m\u001B[43m]\u001B[49m\u001B[43m,\u001B[49m\n\u001B[32m    225\u001B[39m \u001B[43m    \u001B[49m\u001B[43mchannels\u001B[49m\u001B[43m=\u001B[49m\u001B[43mconfig\u001B[49m\u001B[43m[\u001B[49m\u001B[33;43m'\u001B[39;49m\u001B[33;43mchannels\u001B[39;49m\u001B[33;43m'\u001B[39;49m\u001B[43m]\u001B[49m\u001B[43m,\u001B[49m\n\u001B[32m    226\u001B[39m \u001B[43m    \u001B[49m\u001B[43mnum_classes\u001B[49m\u001B[43m=\u001B[49m\u001B[43mconfig\u001B[49m\u001B[43m[\u001B[49m\u001B[33;43m'\u001B[39;49m\u001B[33;43mnum_classes\u001B[39;49m\u001B[33;43m'\u001B[39;49m\u001B[43m]\u001B[49m\u001B[43m,\u001B[49m\n\u001B[32m    227\u001B[39m \u001B[43m    \u001B[49m\u001B[43mnum_conv_layers\u001B[49m\u001B[43m=\u001B[49m\u001B[43mconfig\u001B[49m\u001B[43m[\u001B[49m\u001B[33;43m'\u001B[39;49m\u001B[33;43mnum_conv_layers\u001B[39;49m\u001B[33;43m'\u001B[39;49m\u001B[43m]\u001B[49m\u001B[43m,\u001B[49m\n\u001B[32m    228\u001B[39m \u001B[43m    \u001B[49m\u001B[43mconv_filters\u001B[49m\u001B[43m=\u001B[49m\u001B[43mconv_filters\u001B[49m\u001B[43m,\u001B[49m\n\u001B[32m    229\u001B[39m \u001B[43m    \u001B[49m\u001B[43mkernel_size\u001B[49m\u001B[43m=\u001B[49m\u001B[43mconfig\u001B[49m\u001B[43m[\u001B[49m\u001B[33;43m'\u001B[39;49m\u001B[33;43mkernel_size\u001B[39;49m\u001B[33;43m'\u001B[39;49m\u001B[43m]\u001B[49m\u001B[43m,\u001B[49m\n\u001B[32m    230\u001B[39m \u001B[43m    \u001B[49m\u001B[43mactivation\u001B[49m\u001B[43m=\u001B[49m\u001B[43mconfig\u001B[49m\u001B[43m[\u001B[49m\u001B[33;43m'\u001B[39;49m\u001B[33;43mactivation\u001B[39;49m\u001B[33;43m'\u001B[39;49m\u001B[43m]\u001B[49m\u001B[43m,\u001B[49m\n\u001B[32m    231\u001B[39m \u001B[43m    \u001B[49m\u001B[43muse_pooling\u001B[49m\u001B[43m=\u001B[49m\u001B[43mconfig\u001B[49m\u001B[43m.\u001B[49m\u001B[43mget\u001B[49m\u001B[43m(\u001B[49m\u001B[33;43m'\u001B[39;49m\u001B[33;43muse_pooling\u001B[39;49m\u001B[33;43m'\u001B[39;49m\u001B[43m,\u001B[49m\u001B[43m \u001B[49m\u001B[38;5;28;43;01mFalse\u001B[39;49;00m\u001B[43m)\u001B[49m\u001B[43m,\u001B[49m\u001B[43m  \u001B[49m\u001B[38;5;66;43;03m# From enforced rule\u001B[39;49;00m\n\u001B[32m    232\u001B[39m \u001B[43m    \u001B[49m\u001B[43mnum_dense_layers\u001B[49m\u001B[43m=\u001B[49m\u001B[43mconfig\u001B[49m\u001B[43m[\u001B[49m\u001B[33;43m'\u001B[39;49m\u001B[33;43mnum_dense_layers\u001B[39;49m\u001B[33;43m'\u001B[39;49m\u001B[43m]\u001B[49m\u001B[43m,\u001B[49m\n\u001B[32m    233\u001B[39m \u001B[43m    \u001B[49m\u001B[43mdense_units\u001B[49m\u001B[43m=\u001B[49m\u001B[43m[\u001B[49m\u001B[43mconfig\u001B[49m\u001B[43m[\u001B[49m\u001B[33;43m'\u001B[39;49m\u001B[33;43mdense_units\u001B[39;49m\u001B[33;43m'\u001B[39;49m\u001B[43m]\u001B[49m\u001B[43m]\u001B[49m\u001B[43m \u001B[49m\u001B[43m*\u001B[49m\u001B[43m \u001B[49m\u001B[43mconfig\u001B[49m\u001B[43m[\u001B[49m\u001B[33;43m'\u001B[39;49m\u001B[33;43mnum_dense_layers\u001B[39;49m\u001B[33;43m'\u001B[39;49m\u001B[43m]\u001B[49m\u001B[43m,\u001B[49m\n\u001B[32m    234\u001B[39m \u001B[43m    \u001B[49m\u001B[43mdropout_rate\u001B[49m\u001B[43m=\u001B[49m\u001B[43mconfig\u001B[49m\u001B[43m[\u001B[49m\u001B[33;43m'\u001B[39;49m\u001B[33;43mdropout_rate\u001B[39;49m\u001B[33;43m'\u001B[39;49m\u001B[43m]\u001B[49m\u001B[43m,\u001B[49m\n\u001B[32m    235\u001B[39m \u001B[43m    \u001B[49m\u001B[43mpool_size\u001B[49m\u001B[43m=\u001B[49m\u001B[43mconfig\u001B[49m\u001B[43m[\u001B[49m\u001B[33;43m'\u001B[39;49m\u001B[33;43mpool_size\u001B[39;49m\u001B[33;43m'\u001B[39;49m\u001B[43m]\u001B[49m\u001B[43m,\u001B[49m\u001B[43m \u001B[49m\u001B[38;5;66;43;03m# Fixed for simplicity\u001B[39;49;00m\n\u001B[32m    236\u001B[39m \u001B[43m    \u001B[49m\u001B[43moutput_activation\u001B[49m\u001B[43m=\u001B[49m\u001B[43mconfig\u001B[49m\u001B[43m[\u001B[49m\u001B[33;43m'\u001B[39;49m\u001B[33;43moutput_activation\u001B[39;49m\u001B[33;43m'\u001B[39;49m\u001B[43m]\u001B[49m\n\u001B[32m    237\u001B[39m \u001B[43m\u001B[49m\u001B[43m)\u001B[49m\n\u001B[32m    239\u001B[39m \u001B[38;5;28;01mreturn\u001B[39;00m model\n",
      "\u001B[31mTypeError\u001B[39m: build_cnn_model() got an unexpected keyword argument 'use_pooling'"
     ]
    }
   ],
   "execution_count": 11
  },
  {
   "cell_type": "code",
   "id": "83ec404ce8136a4",
   "metadata": {
    "ExecuteTime": {
     "end_time": "2025-04-02T09:19:47.877094Z",
     "start_time": "2025-04-02T09:19:47.877050Z"
    }
   },
   "source": [
    "# model_dict = {}\n",
    "# model_dir = \"saved_models\"\n",
    "# os.makedirs(model_dir, exist_ok=True)\n",
    "# paths_pre_train_model_dict = {}\n",
    "# \n",
    "# \n",
    "# for i, config in enumerate(valid_configs):\n",
    "#     # Generate unique model name\n",
    "#     name_parts = [\n",
    "#         f\"{config['channels']}ch\",\n",
    "#         f\"skip_{config['use_skip']}\",\n",
    "#         f\"conv{config['num_conv_layers']}\",\n",
    "#         f\"k{config['kernel_size']}\",\n",
    "#         config['activation'],\n",
    "#         f\"dense{config['num_dense_layers']}x{config['dense_units']}\",\n",
    "#         f\"drop{config['dropout_rate']}\",\n",
    "#         f\"out_{config['output_activation']}\"\n",
    "#     ]\n",
    "#     \n",
    "#     model_name = \"_\".join(name_parts)\n",
    "#     # model_filename = model_name + \".keras\"\n",
    "#     # model_path = os.path.join(model_dir, model_filename)\n",
    "# \n",
    "#     # Build and compile\n",
    "#     model = build_model_from_config(config)\n",
    "#     model.compile(\n",
    "#         optimizer='adam',\n",
    "#         loss='categorical_crossentropy',  # Fixed loss function\n",
    "#         metrics=['accuracy']\n",
    "#     )\n",
    "#     # model.save(model_path,overwrite=True)\n",
    "#     # model.summary()\n",
    "#     # paths_pre_train_model_dict[model_name] = {\n",
    "#     #     'model_path': model_path,\n",
    "#     #     'config': config\n",
    "#     # }\n",
    "#     # \n",
    "#     # # Train\n",
    "#     history = model.fit(\n",
    "#         train_dataset,  # Dataset yields (images, targets)\n",
    "#         validation_data=val_dataset,\n",
    "#         epochs=50,\n",
    "#         batch_size=batch_size,\n",
    "#         verbose=2,\n",
    "#         callbacks=[tf.keras.callbacks.EarlyStopping(patience=10)]\n",
    "#     )\n",
    "# \n",
    "#     # Store results\n",
    "#     model_dict[model_name] = {\n",
    "#         'model': model,\n",
    "#         'history': history.history,\n",
    "#         'config': config\n",
    "#     }\n",
    "#     print(f\"Trained {model_name} | Val acc: {max(history.history['val_accuracy']):.4f}\")\n",
    "#     # print(f\"Created {model_name} \")\n"
   ],
   "outputs": [],
   "execution_count": null
  },
  {
   "cell_type": "code",
   "id": "aabfb41fdac8151e",
   "metadata": {
    "ExecuteTime": {
     "end_time": "2025-04-02T09:19:47.878521Z",
     "start_time": "2025-04-02T09:19:47.878031Z"
    }
   },
   "source": [
    "model_dict['1ch_skip_False_conv3_k3_relu_dense1x132_out_softmax']['history']['accuracy']"
   ],
   "outputs": [],
   "execution_count": null
  }
 ],
 "metadata": {
  "kernelspec": {
   "display_name": "Python 3",
   "language": "python",
   "name": "python3"
  },
  "language_info": {
   "codemirror_mode": {
    "name": "ipython",
    "version": 3
   },
   "file_extension": ".py",
   "mimetype": "text/x-python",
   "name": "python",
   "nbconvert_exporter": "python",
   "pygments_lexer": "ipython3",
   "version": "3.11.11"
  }
 },
 "nbformat": 4,
 "nbformat_minor": 5
}
