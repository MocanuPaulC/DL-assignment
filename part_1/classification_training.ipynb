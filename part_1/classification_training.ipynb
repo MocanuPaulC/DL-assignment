{
 "cells": [
  {
   "cell_type": "code",
   "id": "initial_id",
   "metadata": {
    "collapsed": true,
    "ExecuteTime": {
     "end_time": "2025-04-01T12:23:52.638819Z",
     "start_time": "2025-04-01T12:23:48.400119Z"
    }
   },
   "source": [
    "import os\n",
    "os.environ[\"TF_GPU_ALLOCATOR\"] = \"cuda_malloc_async\"\n",
    "import importlib\n",
    "import common_utils\n",
    "importlib.reload(common_utils)\n",
    "import pandas as pd\n",
    "import itertools\n",
    "\n",
    "import tensorflow as tf\n",
    "from common_utils import get_unique_image_shapes,get_unique_image_paths,load_images_from_paths,build_image_dataframe,split_data, bin_ages, build_cnn_model,build_model_from_config"
   ],
   "outputs": [],
   "execution_count": 1
  },
  {
   "metadata": {
    "ExecuteTime": {
     "end_time": "2025-04-01T12:23:52.641381Z",
     "start_time": "2025-04-01T12:23:52.639779Z"
    }
   },
   "cell_type": "code",
   "source": [
    "\n",
    "\n",
    "# tf.keras.mixed_precision.set_global_policy('mixed_float16')\n",
    "\n",
    "# gpus = tf.config.experimental.list_physical_devices('GPU')\n",
    "# for gpu in gpus:\n",
    "#     tf.config.experimental.set_memory_growth(gpu, True)\n"
   ],
   "id": "b449a3fa11f15cff",
   "outputs": [],
   "execution_count": 2
  },
  {
   "metadata": {
    "ExecuteTime": {
     "end_time": "2025-04-01T12:23:52.652968Z",
     "start_time": "2025-04-01T12:23:52.642403Z"
    }
   },
   "cell_type": "code",
   "source": "image_paths_csv = pd.read_csv('./processed_data/image_paths.csv')",
   "id": "a5acada596262b76",
   "outputs": [],
   "execution_count": 3
  },
  {
   "metadata": {
    "ExecuteTime": {
     "end_time": "2025-04-01T12:23:52.657443Z",
     "start_time": "2025-04-01T12:23:52.653483Z"
    }
   },
   "cell_type": "code",
   "source": "paths_train_df, paths_val_df, paths_test_df = split_data(image_paths_csv)",
   "id": "e6164dda010f022",
   "outputs": [],
   "execution_count": 4
  },
  {
   "metadata": {
    "ExecuteTime": {
     "end_time": "2025-04-01T12:23:52.662146Z",
     "start_time": "2025-04-01T12:23:52.659297Z"
    }
   },
   "cell_type": "code",
   "source": [
    "configurations = {\n",
    "    'channels': [3],\n",
    "    'use_skip': [True, False],\n",
    "    'num_conv_layers': [3, 4],\n",
    "    'base_filters': [16,32, 64,128,256],\n",
    "    'kernel_size': [3, 5,7],\n",
    "    'activation': ['relu', 'elu','leakyrelu','tanh','swish'],\n",
    "    'num_dense_layers': [1, 2,3,4,5],\n",
    "    'dense_units': [32,64,128],\n",
    "    'dropout_rate': [0.3, 0.5,0.7],\n",
    "    'output_activation': ['sigmoid', 'softmax'],\n",
    "}\n"
   ],
   "id": "f77f27c3567505cf",
   "outputs": [],
   "execution_count": 5
  },
  {
   "metadata": {
    "ExecuteTime": {
     "end_time": "2025-04-01T12:23:52.672473Z",
     "start_time": "2025-04-01T12:23:52.662775Z"
    }
   },
   "cell_type": "code",
   "source": [
    "\n",
    "\n",
    "all_combinations = list(itertools.product(*configurations.values()))\n",
    "valid_configs = []\n",
    "\n",
    "for combo in all_combinations:\n",
    "    params = dict(zip(configurations.keys(), combo))\n",
    "    \n",
    "    # Enforce: If use_skip=True, use_pooling=False\n",
    "    if params['use_skip']:\n",
    "        params['use_pooling'] = False\n",
    "    else:\n",
    "        params['use_pooling'] = True  # Or add to search space\n",
    "    \n",
    "    valid_configs.append(params)\n",
    "\n"
   ],
   "id": "e736c21984667af3",
   "outputs": [],
   "execution_count": 6
  },
  {
   "metadata": {
    "ExecuteTime": {
     "end_time": "2025-04-01T12:23:52.737291Z",
     "start_time": "2025-04-01T12:23:52.672959Z"
    }
   },
   "cell_type": "code",
   "source": [
    "train_dataset = load_images_from_paths(paths_train_df, channels=3)\n",
    "val_dataset = load_images_from_paths(paths_val_df, channels=3)\n"
   ],
   "id": "c148d5e8b1c8ddb9",
   "outputs": [
    {
     "name": "stderr",
     "output_type": "stream",
     "text": [
      "2025-04-01 13:23:52.675340: I metal_plugin/src/device/metal_device.cc:1154] Metal device set to: Apple M3\n",
      "2025-04-01 13:23:52.675369: I metal_plugin/src/device/metal_device.cc:296] systemMemory: 16.00 GB\n",
      "2025-04-01 13:23:52.675380: I metal_plugin/src/device/metal_device.cc:313] maxCacheSize: 5.33 GB\n",
      "2025-04-01 13:23:52.675398: I tensorflow/core/common_runtime/pluggable_device/pluggable_device_factory.cc:305] Could not identify NUMA node of platform GPU ID 0, defaulting to 0. Your kernel may not have been built with NUMA support.\n",
      "2025-04-01 13:23:52.675407: I tensorflow/core/common_runtime/pluggable_device/pluggable_device_factory.cc:271] Created TensorFlow device (/job:localhost/replica:0/task:0/device:GPU:0 with 0 MB memory) -> physical PluggableDevice (device: 0, name: METAL, pci bus id: <undefined>)\n"
     ]
    }
   ],
   "execution_count": 7
  },
  {
   "metadata": {
    "ExecuteTime": {
     "end_time": "2025-04-01T12:23:52.739571Z",
     "start_time": "2025-04-01T12:23:52.737844Z"
    }
   },
   "cell_type": "code",
   "source": [
    "def configure_dataset(dataset, shuffle=False):\n",
    "    if shuffle:\n",
    "        dataset = dataset.shuffle(buffer_size=500)  # Adjust buffer size as needed\n",
    "    dataset = dataset.batch(32).prefetch(tf.data.AUTOTUNE)\n",
    "    return dataset\n"
   ],
   "id": "fc46df10f99cd492",
   "outputs": [],
   "execution_count": 8
  },
  {
   "metadata": {
    "ExecuteTime": {
     "end_time": "2025-04-01T12:23:52.750449Z",
     "start_time": "2025-04-01T12:23:52.740414Z"
    }
   },
   "cell_type": "code",
   "source": [
    "train_dataset = configure_dataset(train_dataset, shuffle=True)\n",
    "val_dataset = configure_dataset(val_dataset)\n"
   ],
   "id": "b9aa26f54d02a548",
   "outputs": [],
   "execution_count": 9
  },
  {
   "metadata": {
    "ExecuteTime": {
     "start_time": "2025-04-01T12:23:52.752735Z"
    }
   },
   "cell_type": "code",
   "source": [
    "model_dict = {}\n",
    "model_dir = \"saved_models\"\n",
    "os.makedirs(model_dir, exist_ok=True)\n",
    "paths_pre_train_model_dict = {}\n",
    "\n",
    "\n",
    "for i, config in enumerate(valid_configs):\n",
    "    # Generate unique model name\n",
    "    name_parts = [\n",
    "        f\"{config['channels']}ch\",\n",
    "        f\"skip_{config['use_skip']}\",\n",
    "        f\"conv{config['num_conv_layers']}\",\n",
    "        f\"k{config['kernel_size']}\",\n",
    "        config['activation'],\n",
    "        f\"dense{config['num_dense_layers']}x{config['dense_units']}\",\n",
    "        f\"drop{config['dropout_rate']}\",\n",
    "        f\"out_{config['output_activation']}\"\n",
    "    ]\n",
    "    \n",
    "    model_name = \"_\".join(name_parts)\n",
    "    model_filename = model_name + \".keras\"\n",
    "    model_path = os.path.join(model_dir, model_filename)\n",
    "\n",
    "    if os.path.exists(model_path):\n",
    "        print(f\"Skipped {model_name} (already exists)\")\n",
    "        paths_pre_train_model_dict[model_name] = {\n",
    "            'model_path': model_path,\n",
    "            'config': config\n",
    "        }\n",
    "        continue\n",
    "    # Build and compile\n",
    "    model = build_model_from_config(config)\n",
    "    model.compile(\n",
    "        optimizer='adam',\n",
    "        loss='sparse_categorical_crossentropy',  # Fixed loss function\n",
    "        metrics=['accuracy']\n",
    "    )\n",
    "    model.save(model_path,overwrite=True)\n",
    "    \n",
    "    paths_pre_train_model_dict[model_name] = {\n",
    "        'model_path': model_path,\n",
    "        'config': config\n",
    "    }\n",
    "\n",
    "    # Train\n",
    "    # history = model.fit(\n",
    "    #     train_dataset,  # Dataset yields (images, targets)\n",
    "    #     validation_data=val_dataset,\n",
    "    #     epochs=50,\n",
    "    #     batch_size=32,\n",
    "    #     verbose=0,\n",
    "    #     callbacks=[tf.keras.callbacks.EarlyStopping(patience=3)]\n",
    "    # )\n",
    "    \n",
    "    # Store results\n",
    "    # model_dict[model_name] = {\n",
    "    #     'model': model,\n",
    "    #     'history': history.history,\n",
    "    #     'config': config\n",
    "    # }\n",
    "    # print(f\"Trained {model_name} | Val acc: {max(history.history['val_accuracy']):.4f}\")\n",
    "    print(f\"Created {model_name} \")\n"
   ],
   "id": "83ec404ce8136a4",
   "outputs": [
    {
     "name": "stdout",
     "output_type": "stream",
     "text": [
      "Skipped 3ch_skip_True_conv3_k3_relu_dense1x128_drop0.3_out_sigmoid (already exists)\n",
      "Skipped 3ch_skip_True_conv3_k3_relu_dense1x128_drop0.3_out_softmax (already exists)\n",
      "Skipped 3ch_skip_True_conv3_k3_relu_dense1x128_drop0.5_out_sigmoid (already exists)\n",
      "Skipped 3ch_skip_True_conv3_k3_relu_dense1x128_drop0.5_out_softmax (already exists)\n",
      "Skipped 3ch_skip_True_conv3_k3_relu_dense1x128_drop0.7_out_sigmoid (already exists)\n",
      "Skipped 3ch_skip_True_conv3_k3_relu_dense1x128_drop0.7_out_softmax (already exists)\n",
      "Skipped 3ch_skip_True_conv3_k3_relu_dense1x256_drop0.3_out_sigmoid (already exists)\n",
      "Skipped 3ch_skip_True_conv3_k3_relu_dense1x256_drop0.3_out_softmax (already exists)\n",
      "Skipped 3ch_skip_True_conv3_k3_relu_dense1x256_drop0.5_out_sigmoid (already exists)\n",
      "Skipped 3ch_skip_True_conv3_k3_relu_dense1x256_drop0.5_out_softmax (already exists)\n",
      "Skipped 3ch_skip_True_conv3_k3_relu_dense1x256_drop0.7_out_sigmoid (already exists)\n",
      "Skipped 3ch_skip_True_conv3_k3_relu_dense1x256_drop0.7_out_softmax (already exists)\n",
      "Skipped 3ch_skip_True_conv3_k3_relu_dense2x128_drop0.3_out_sigmoid (already exists)\n",
      "Skipped 3ch_skip_True_conv3_k3_relu_dense2x128_drop0.3_out_softmax (already exists)\n",
      "Skipped 3ch_skip_True_conv3_k3_relu_dense2x128_drop0.5_out_sigmoid (already exists)\n",
      "Skipped 3ch_skip_True_conv3_k3_relu_dense2x128_drop0.5_out_softmax (already exists)\n",
      "Skipped 3ch_skip_True_conv3_k3_relu_dense2x128_drop0.7_out_sigmoid (already exists)\n",
      "Skipped 3ch_skip_True_conv3_k3_relu_dense2x128_drop0.7_out_softmax (already exists)\n",
      "Skipped 3ch_skip_True_conv3_k3_relu_dense2x256_drop0.3_out_sigmoid (already exists)\n",
      "Skipped 3ch_skip_True_conv3_k3_relu_dense2x256_drop0.3_out_softmax (already exists)\n",
      "Skipped 3ch_skip_True_conv3_k3_relu_dense2x256_drop0.5_out_sigmoid (already exists)\n",
      "Skipped 3ch_skip_True_conv3_k3_relu_dense2x256_drop0.5_out_softmax (already exists)\n",
      "Skipped 3ch_skip_True_conv3_k3_relu_dense2x256_drop0.7_out_sigmoid (already exists)\n",
      "Skipped 3ch_skip_True_conv3_k3_relu_dense2x256_drop0.7_out_softmax (already exists)\n",
      "Skipped 3ch_skip_True_conv3_k3_relu_dense3x128_drop0.3_out_sigmoid (already exists)\n",
      "Skipped 3ch_skip_True_conv3_k3_relu_dense3x128_drop0.3_out_softmax (already exists)\n",
      "Skipped 3ch_skip_True_conv3_k3_relu_dense3x128_drop0.5_out_sigmoid (already exists)\n",
      "Skipped 3ch_skip_True_conv3_k3_relu_dense3x128_drop0.5_out_softmax (already exists)\n",
      "Skipped 3ch_skip_True_conv3_k3_relu_dense3x128_drop0.7_out_sigmoid (already exists)\n",
      "Skipped 3ch_skip_True_conv3_k3_relu_dense3x128_drop0.7_out_softmax (already exists)\n",
      "Skipped 3ch_skip_True_conv3_k3_relu_dense3x256_drop0.3_out_sigmoid (already exists)\n",
      "Skipped 3ch_skip_True_conv3_k3_relu_dense3x256_drop0.3_out_softmax (already exists)\n",
      "Skipped 3ch_skip_True_conv3_k3_relu_dense3x256_drop0.5_out_sigmoid (already exists)\n",
      "Skipped 3ch_skip_True_conv3_k3_relu_dense3x256_drop0.5_out_softmax (already exists)\n",
      "Skipped 3ch_skip_True_conv3_k3_relu_dense3x256_drop0.7_out_sigmoid (already exists)\n",
      "Skipped 3ch_skip_True_conv3_k3_relu_dense3x256_drop0.7_out_softmax (already exists)\n",
      "Skipped 3ch_skip_True_conv3_k3_relu_dense4x128_drop0.3_out_sigmoid (already exists)\n",
      "Skipped 3ch_skip_True_conv3_k3_relu_dense4x128_drop0.3_out_softmax (already exists)\n",
      "Skipped 3ch_skip_True_conv3_k3_relu_dense4x128_drop0.5_out_sigmoid (already exists)\n",
      "Skipped 3ch_skip_True_conv3_k3_relu_dense4x128_drop0.5_out_softmax (already exists)\n",
      "Skipped 3ch_skip_True_conv3_k3_relu_dense4x128_drop0.7_out_sigmoid (already exists)\n",
      "Skipped 3ch_skip_True_conv3_k3_relu_dense4x128_drop0.7_out_softmax (already exists)\n",
      "Skipped 3ch_skip_True_conv3_k3_relu_dense4x256_drop0.3_out_sigmoid (already exists)\n",
      "Skipped 3ch_skip_True_conv3_k3_relu_dense4x256_drop0.3_out_softmax (already exists)\n",
      "Skipped 3ch_skip_True_conv3_k3_relu_dense4x256_drop0.5_out_sigmoid (already exists)\n",
      "Skipped 3ch_skip_True_conv3_k3_relu_dense4x256_drop0.5_out_softmax (already exists)\n",
      "Skipped 3ch_skip_True_conv3_k3_relu_dense4x256_drop0.7_out_sigmoid (already exists)\n",
      "Skipped 3ch_skip_True_conv3_k3_relu_dense4x256_drop0.7_out_softmax (already exists)\n",
      "Created 3ch_skip_True_conv3_k3_elu_dense1x128_drop0.3_out_sigmoid \n",
      "Created 3ch_skip_True_conv3_k3_elu_dense1x128_drop0.3_out_softmax \n",
      "Created 3ch_skip_True_conv3_k3_elu_dense1x128_drop0.5_out_sigmoid \n",
      "Created 3ch_skip_True_conv3_k3_elu_dense1x128_drop0.5_out_softmax \n",
      "Created 3ch_skip_True_conv3_k3_elu_dense1x128_drop0.7_out_sigmoid \n",
      "Created 3ch_skip_True_conv3_k3_elu_dense1x128_drop0.7_out_softmax \n",
      "Created 3ch_skip_True_conv3_k3_elu_dense1x256_drop0.3_out_sigmoid \n",
      "Created 3ch_skip_True_conv3_k3_elu_dense1x256_drop0.3_out_softmax \n",
      "Created 3ch_skip_True_conv3_k3_elu_dense1x256_drop0.5_out_sigmoid \n",
      "Created 3ch_skip_True_conv3_k3_elu_dense1x256_drop0.5_out_softmax \n",
      "Created 3ch_skip_True_conv3_k3_elu_dense1x256_drop0.7_out_sigmoid \n",
      "Created 3ch_skip_True_conv3_k3_elu_dense1x256_drop0.7_out_softmax \n",
      "Created 3ch_skip_True_conv3_k3_elu_dense2x128_drop0.3_out_sigmoid \n",
      "Created 3ch_skip_True_conv3_k3_elu_dense2x128_drop0.3_out_softmax \n",
      "Created 3ch_skip_True_conv3_k3_elu_dense2x128_drop0.5_out_sigmoid \n",
      "Created 3ch_skip_True_conv3_k3_elu_dense2x128_drop0.5_out_softmax \n",
      "Created 3ch_skip_True_conv3_k3_elu_dense2x128_drop0.7_out_sigmoid \n",
      "Created 3ch_skip_True_conv3_k3_elu_dense2x128_drop0.7_out_softmax \n",
      "Created 3ch_skip_True_conv3_k3_elu_dense2x256_drop0.3_out_sigmoid \n",
      "Created 3ch_skip_True_conv3_k3_elu_dense2x256_drop0.3_out_softmax \n",
      "Created 3ch_skip_True_conv3_k3_elu_dense2x256_drop0.5_out_sigmoid \n",
      "Created 3ch_skip_True_conv3_k3_elu_dense2x256_drop0.5_out_softmax \n",
      "Created 3ch_skip_True_conv3_k3_elu_dense2x256_drop0.7_out_sigmoid \n",
      "Created 3ch_skip_True_conv3_k3_elu_dense2x256_drop0.7_out_softmax \n",
      "Created 3ch_skip_True_conv3_k3_elu_dense3x128_drop0.3_out_sigmoid \n",
      "Created 3ch_skip_True_conv3_k3_elu_dense3x128_drop0.3_out_softmax \n",
      "Created 3ch_skip_True_conv3_k3_elu_dense3x128_drop0.5_out_sigmoid \n",
      "Created 3ch_skip_True_conv3_k3_elu_dense3x128_drop0.5_out_softmax \n",
      "Created 3ch_skip_True_conv3_k3_elu_dense3x128_drop0.7_out_sigmoid \n",
      "Created 3ch_skip_True_conv3_k3_elu_dense3x128_drop0.7_out_softmax \n",
      "Created 3ch_skip_True_conv3_k3_elu_dense3x256_drop0.3_out_sigmoid \n",
      "Created 3ch_skip_True_conv3_k3_elu_dense3x256_drop0.3_out_softmax \n",
      "Created 3ch_skip_True_conv3_k3_elu_dense3x256_drop0.5_out_sigmoid \n",
      "Created 3ch_skip_True_conv3_k3_elu_dense3x256_drop0.5_out_softmax \n"
     ]
    }
   ],
   "execution_count": null
  },
  {
   "metadata": {},
   "cell_type": "code",
   "source": "",
   "id": "ca27ab53e5700ee0",
   "outputs": [],
   "execution_count": null
  }
 ],
 "metadata": {
  "kernelspec": {
   "display_name": "Python 3",
   "language": "python",
   "name": "python3"
  },
  "language_info": {
   "codemirror_mode": {
    "name": "ipython",
    "version": 2
   },
   "file_extension": ".py",
   "mimetype": "text/x-python",
   "name": "python",
   "nbconvert_exporter": "python",
   "pygments_lexer": "ipython2",
   "version": "2.7.6"
  }
 },
 "nbformat": 4,
 "nbformat_minor": 5
}
