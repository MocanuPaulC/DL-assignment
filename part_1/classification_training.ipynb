{
 "cells": [
  {
   "cell_type": "code",
   "id": "initial_id",
   "metadata": {
    "collapsed": true,
    "ExecuteTime": {
     "end_time": "2025-03-31T23:21:23.821126Z",
     "start_time": "2025-03-31T23:21:23.792062Z"
    }
   },
   "source": [
    "import importlib\n",
    "import common_utils\n",
    "importlib.reload(common_utils)\n",
    "import pandas as pd\n",
    "import itertools\n",
    "import tensorflow as tf\n",
    "from common_utils import get_unique_image_shapes,get_unique_image_paths,load_images_from_paths,build_image_dataframe,split_data, bin_ages, build_cnn_model,build_model_from_config"
   ],
   "outputs": [],
   "execution_count": 58
  },
  {
   "metadata": {
    "ExecuteTime": {
     "end_time": "2025-03-31T23:21:23.907375Z",
     "start_time": "2025-03-31T23:21:23.825454Z"
    }
   },
   "cell_type": "code",
   "source": "image_paths_csv = pd.read_csv('./processed_data/image_paths.csv')",
   "id": "a5acada596262b76",
   "outputs": [],
   "execution_count": 59
  },
  {
   "metadata": {
    "ExecuteTime": {
     "end_time": "2025-03-31T23:21:23.923680Z",
     "start_time": "2025-03-31T23:21:23.910233Z"
    }
   },
   "cell_type": "code",
   "source": "paths_train_df, paths_val_df, paths_test_df = split_data(image_paths_csv)",
   "id": "e6164dda010f022",
   "outputs": [],
   "execution_count": 60
  },
  {
   "metadata": {
    "ExecuteTime": {
     "end_time": "2025-03-31T23:21:23.933634Z",
     "start_time": "2025-03-31T23:21:23.925198Z"
    }
   },
   "cell_type": "code",
   "source": [
    "configurations = {\n",
    "    'channels': [3],\n",
    "    'use_skip': [True, False],\n",
    "    'num_conv_layers': [3, 4,5],\n",
    "    'base_filters': [16,32, 64,128],\n",
    "    'kernel_size': [3, 5,7],\n",
    "    'activation': ['relu', 'elu','leakyrelu','tanh','swish'],\n",
    "    'num_dense_layers': [1, 2,3,4],\n",
    "    'dense_units': [128, 256, 512],\n",
    "    'dropout_rate': [0.3, 0.5,0.7],\n",
    "    'output_activation': ['sigmoid', 'softmax'],\n",
    "}\n"
   ],
   "id": "f77f27c3567505cf",
   "outputs": [],
   "execution_count": 61
  },
  {
   "metadata": {
    "ExecuteTime": {
     "end_time": "2025-03-31T23:21:23.991700Z",
     "start_time": "2025-03-31T23:21:23.935275Z"
    }
   },
   "cell_type": "code",
   "source": [
    "\n",
    "\n",
    "all_combinations = list(itertools.product(*configurations.values()))\n",
    "valid_configs = []\n",
    "\n",
    "for combo in all_combinations:\n",
    "    params = dict(zip(configurations.keys(), combo))\n",
    "    \n",
    "    # Enforce: If use_skip=True, use_pooling=False\n",
    "    if params['use_skip']:\n",
    "        params['use_pooling'] = False\n",
    "    else:\n",
    "        params['use_pooling'] = True  # Or add to search space\n",
    "    \n",
    "    valid_configs.append(params)\n",
    "\n"
   ],
   "id": "e736c21984667af3",
   "outputs": [],
   "execution_count": 62
  },
  {
   "metadata": {
    "ExecuteTime": {
     "end_time": "2025-03-31T23:21:24.268944Z",
     "start_time": "2025-03-31T23:21:23.992866Z"
    }
   },
   "cell_type": "code",
   "source": [
    "train_dataset = load_images_from_paths(paths_train_df, channels=3,ratio=0.1)\n",
    "val_dataset = load_images_from_paths(paths_val_df, channels=3,ratio=0.1)\n"
   ],
   "id": "c148d5e8b1c8ddb9",
   "outputs": [],
   "execution_count": 63
  },
  {
   "metadata": {
    "ExecuteTime": {
     "end_time": "2025-03-31T23:21:24.271570Z",
     "start_time": "2025-03-31T23:21:24.269606Z"
    }
   },
   "cell_type": "code",
   "source": [
    "def configure_dataset(dataset, shuffle=False):\n",
    "    if shuffle:\n",
    "        dataset = dataset.shuffle(buffer_size=1000)  # Adjust buffer size as needed\n",
    "    dataset = dataset.batch(32).prefetch(tf.data.AUTOTUNE)\n",
    "    return dataset\n"
   ],
   "id": "fc46df10f99cd492",
   "outputs": [],
   "execution_count": 64
  },
  {
   "metadata": {
    "ExecuteTime": {
     "end_time": "2025-03-31T23:21:24.279189Z",
     "start_time": "2025-03-31T23:21:24.272277Z"
    }
   },
   "cell_type": "code",
   "source": [
    "train_dataset = configure_dataset(train_dataset, shuffle=True)\n",
    "val_dataset = configure_dataset(val_dataset)\n"
   ],
   "id": "b9aa26f54d02a548",
   "outputs": [],
   "execution_count": 65
  },
  {
   "metadata": {
    "ExecuteTime": {
     "end_time": "2025-03-31T23:21:24.280969Z",
     "start_time": "2025-03-31T23:21:24.279699Z"
    }
   },
   "cell_type": "code",
   "source": "",
   "id": "8c6cd364482f42a0",
   "outputs": [],
   "execution_count": 65
  },
  {
   "metadata": {
    "jupyter": {
     "is_executing": true
    },
    "ExecuteTime": {
     "start_time": "2025-03-31T23:21:24.282240Z"
    }
   },
   "cell_type": "code",
   "source": [
    "model_dict = {}\n",
    "\n",
    "for i, config in enumerate(valid_configs[:2]):  # Limit to 10 for demo\n",
    "    # Generate unique model name (your existing code)\n",
    "    name_parts = [\n",
    "        f\"{config['channels']}ch\",\n",
    "        f\"skip_{config['use_skip']}\",\n",
    "        f\"conv{config['num_conv_layers']}\",\n",
    "        f\"k{config['kernel_size']}\",\n",
    "        config['activation'],\n",
    "        f\"dense{config['num_dense_layers']}x{config['dense_units']}\",\n",
    "        f\"drop{config['dropout_rate']}\",\n",
    "        f\"out_{config['output_activation']}\"\n",
    "    ]\n",
    "    model_name = \"_\".join(name_parts)\n",
    "    \n",
    "    # Build and compile\n",
    "    model = build_model_from_config(config)\n",
    "    model.compile(\n",
    "        optimizer='adam',\n",
    "        loss='sparse_categorical_crossentropy',  # Fixed loss function\n",
    "        metrics=['accuracy']\n",
    "    )\n",
    "    \n",
    "    \n",
    "        # Train\n",
    "    history = model.fit(\n",
    "        train_dataset,  # Dataset yields (images, targets)\n",
    "        validation_data=val_dataset,\n",
    "        epochs=50,\n",
    "        verbose=0,\n",
    "        callbacks=[tf.keras.callbacks.EarlyStopping(patience=3)]\n",
    "    )\n",
    "    \n",
    "    # Store results\n",
    "    model_dict[model_name] = {\n",
    "        'model': model,\n",
    "        'history': history.history,\n",
    "        'config': config\n",
    "    }\n",
    "    print(f\"Trained {model_name} | Val acc: {max(history.history['val_accuracy']):.4f}\")\n"
   ],
   "id": "83ec404ce8136a4",
   "outputs": [],
   "execution_count": null
  }
 ],
 "metadata": {
  "kernelspec": {
   "display_name": "Python 3",
   "language": "python",
   "name": "python3"
  },
  "language_info": {
   "codemirror_mode": {
    "name": "ipython",
    "version": 2
   },
   "file_extension": ".py",
   "mimetype": "text/x-python",
   "name": "python",
   "nbconvert_exporter": "python",
   "pygments_lexer": "ipython2",
   "version": "2.7.6"
  }
 },
 "nbformat": 4,
 "nbformat_minor": 5
}
