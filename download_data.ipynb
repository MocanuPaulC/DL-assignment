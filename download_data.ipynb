{
 "cells": [
  {
   "metadata": {
    "ExecuteTime": {
     "end_time": "2025-04-01T13:04:45.412647Z",
     "start_time": "2025-04-01T13:04:45.409648Z"
    }
   },
   "cell_type": "code",
   "source": [
    "import os\n",
    "import shutil"
   ],
   "id": "5ac00ac4e1c3de68",
   "outputs": [],
   "execution_count": 3
  },
  {
   "cell_type": "code",
   "id": "initial_id",
   "metadata": {
    "collapsed": true,
    "ExecuteTime": {
     "end_time": "2025-04-01T13:04:01.032090Z",
     "start_time": "2025-04-01T13:04:00.608852Z"
    }
   },
   "source": [
    "import kagglehub\n",
    "path = kagglehub.dataset_download(\"frabbisw/facial-age\")\n",
    "print(\"Path to dataset files:\", path)"
   ],
   "outputs": [
    {
     "name": "stdout",
     "output_type": "stream",
     "text": [
      "Path to dataset files: /Users/bytedance/.cache/kagglehub/datasets/frabbisw/facial-age/versions/1\n"
     ]
    }
   ],
   "execution_count": 1
  },
  {
   "metadata": {
    "ExecuteTime": {
     "end_time": "2025-04-01T13:04:47.041392Z",
     "start_time": "2025-04-01T13:04:46.991136Z"
    }
   },
   "cell_type": "code",
   "source": [
    "\n",
    "source_folder = os.path.join(path , \"face_age\")\n",
    "extra_imgs_folder = os.path.join(path , \"face_age\",\"face_age\")\n",
    "target_folder = os.path.join(\"./\",\"raw_data2/face_age\")\n",
    "os.rmdir(extra_imgs_folder)\n",
    "\n",
    "os.makedirs(target_folder, exist_ok=True)\n",
    "\n",
    "\n",
    "for filename in os.listdir(source_folder):\n",
    "    src_file = os.path.join(source_folder, filename)\n",
    "    dst_file = os.path.join(target_folder, filename)\n",
    "    shutil.move(src_file, dst_file)\n",
    "\n"
   ],
   "id": "dca550b33b3f01e0",
   "outputs": [],
   "execution_count": 4
  }
 ],
 "metadata": {
  "kernelspec": {
   "display_name": "Python 3",
   "language": "python",
   "name": "python3"
  },
  "language_info": {
   "codemirror_mode": {
    "name": "ipython",
    "version": 2
   },
   "file_extension": ".py",
   "mimetype": "text/x-python",
   "name": "python",
   "nbconvert_exporter": "python",
   "pygments_lexer": "ipython2",
   "version": "2.7.6"
  }
 },
 "nbformat": 4,
 "nbformat_minor": 5
}
