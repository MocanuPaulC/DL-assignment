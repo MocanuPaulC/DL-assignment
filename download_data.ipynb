{
 "cells": [
  {
   "cell_type": "code",
   "execution_count": 1,
   "id": "5ac00ac4e1c3de68",
   "metadata": {
    "ExecuteTime": {
     "end_time": "2025-04-01T13:04:45.412647Z",
     "start_time": "2025-04-01T13:04:45.409648Z"
    }
   },
   "outputs": [],
   "source": [
    "import os\n",
    "import shutil"
   ]
  },
  {
   "cell_type": "code",
   "execution_count": 2,
   "id": "initial_id",
   "metadata": {
    "ExecuteTime": {
     "end_time": "2025-04-01T13:04:01.032090Z",
     "start_time": "2025-04-01T13:04:00.608852Z"
    },
    "collapsed": true
   },
   "outputs": [
    {
     "name": "stdout",
     "output_type": "stream",
     "text": [
      "Downloading from https://www.kaggle.com/api/v1/datasets/download/frabbisw/facial-age?dataset_version_number=1...\n"
     ]
    },
    {
     "name": "stderr",
     "output_type": "stream",
     "text": [
      "100%|██████████| 840M/840M [00:04<00:00, 193MB/s]  "
     ]
    },
    {
     "name": "stdout",
     "output_type": "stream",
     "text": [
      "Extracting files...\n"
     ]
    },
    {
     "name": "stderr",
     "output_type": "stream",
     "text": [
      "\n"
     ]
    },
    {
     "name": "stdout",
     "output_type": "stream",
     "text": [
      "Path to dataset files: /root/.cache/kagglehub/datasets/frabbisw/facial-age/versions/1\n"
     ]
    }
   ],
   "source": [
    "import kagglehub\n",
    "path = kagglehub.dataset_download(\"frabbisw/facial-age\")\n",
    "print(\"Path to dataset files:\", path)"
   ]
  },
  {
   "cell_type": "code",
   "execution_count": 3,
   "id": "dca550b33b3f01e0",
   "metadata": {
    "ExecuteTime": {
     "end_time": "2025-04-01T13:04:47.041392Z",
     "start_time": "2025-04-01T13:04:46.991136Z"
    }
   },
   "outputs": [],
   "source": [
    "\n",
    "source_folder = os.path.join(path , \"face_age\")\n",
    "extra_imgs_folder = os.path.join(path , \"face_age\",\"face_age\")\n",
    "target_folder = os.path.join(\"./\",\"raw_data2/face_age\")\n",
    "# shutil.rmtree(extra_imgs_folder)\n",
    "\n",
    "os.makedirs(target_folder, exist_ok=True)\n",
    "\n",
    "\n",
    "for filename in os.listdir(source_folder):\n",
    "    src_file = os.path.join(source_folder, filename)\n",
    "    dst_file = os.path.join(target_folder, filename)\n",
    "    shutil.move(src_file, dst_file)\n",
    "\n"
   ]
  }
 ],
 "metadata": {
  "kernelspec": {
   "display_name": "Python 3",
   "language": "python",
   "name": "python3"
  },
  "language_info": {
   "codemirror_mode": {
    "name": "ipython",
    "version": 3
   },
   "file_extension": ".py",
   "mimetype": "text/x-python",
   "name": "python",
   "nbconvert_exporter": "python",
   "pygments_lexer": "ipython3",
   "version": "3.11.11"
  }
 },
 "nbformat": 4,
 "nbformat_minor": 5
}
